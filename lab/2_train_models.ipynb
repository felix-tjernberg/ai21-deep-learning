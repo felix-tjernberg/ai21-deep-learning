{
 "cells": [
  {
   "cell_type": "markdown",
   "metadata": {},
   "source": [
    "# 2"
   ]
  },
  {
   "cell_type": "code",
   "execution_count": 1,
   "metadata": {},
   "outputs": [],
   "source": [
    "from load_datasets import train_val_generator, val_generator, train_generator, test_generator, X_train, X_val\n",
    "from helper_functions import flatten_list, plot_and_print_model_metrics\n",
    "from tensorflow.keras.models import Sequential\n",
    "from tensorflow.keras.layers import Dense, Conv2D, Flatten, Dropout, MaxPooling2D\n",
    "from tensorflow.keras.optimizers import Adam\n",
    "from tensorflow.keras.callbacks import EarlyStopping"
   ]
  },
  {
   "cell_type": "code",
   "execution_count": 2,
   "metadata": {},
   "outputs": [],
   "source": [
    "def model_cnn_2_classes(\n",
    "    convolution_layers = [],\n",
    "    mlp_layers = [],\n",
    "    *,\n",
    "    flatten_layer = [Flatten(name='flatten_layer')],\n",
    "    name: str = \"cnn_model_2_classes\",\n",
    "    optimizer=Adam(learning_rate=0.001),\n",
    "    metrics=[\"acc\"],\n",
    "):\n",
    "    model = Sequential(convolution_layers + flatten_layer + mlp_layers + [Dense(1, activation='sigmoid', name='output_layer')], name=name)\n",
    "    model.compile(\n",
    "        loss=\"binary_crossentropy\", optimizer=optimizer, metrics=metrics\n",
    "    )\n",
    "    model.summary()\n",
    "    return model"
   ]
  },
  {
   "cell_type": "code",
   "execution_count": 3,
   "metadata": {},
   "outputs": [
    {
     "data": {
      "text/plain": [
       "(32, 32, 3)"
      ]
     },
     "execution_count": 3,
     "metadata": {},
     "output_type": "execute_result"
    }
   ],
   "source": [
    "X_train.shape[1:]"
   ]
  },
  {
   "cell_type": "code",
   "execution_count": 4,
   "metadata": {},
   "outputs": [
    {
     "data": {
      "text/plain": [
       "([<keras.layers.convolutional.Conv2D at 0x18f3f43a460>,\n",
       "  <keras.layers.pooling.MaxPooling2D at 0x18f7f252ac0>,\n",
       "  <keras.layers.convolutional.Conv2D at 0x18f7f252b20>,\n",
       "  <keras.layers.pooling.MaxPooling2D at 0x18f7f2525e0>,\n",
       "  <keras.layers.convolutional.Conv2D at 0x18f3f4a61f0>,\n",
       "  <keras.layers.pooling.MaxPooling2D at 0x18f3f4a66a0>,\n",
       "  <keras.layers.convolutional.Conv2D at 0x18f3f4a6880>,\n",
       "  <keras.layers.pooling.MaxPooling2D at 0x18f3f4a6d30>],\n",
       " [<keras.layers.core.dropout.Dropout at 0x18f3f43a3d0>,\n",
       "  <keras.layers.core.dense.Dense at 0x18f3f4af250>])"
      ]
     },
     "execution_count": 4,
     "metadata": {},
     "output_type": "execute_result"
    }
   ],
   "source": [
    "input_shape = X_train.shape[1:]\n",
    "kernel_numbers = [32, 64, 128, 128]\n",
    "model_1__cnn_layers = flatten_list([\n",
    "    [\n",
    "        Conv2D(\n",
    "            kernel_number,\n",
    "            padding=\"same\",\n",
    "            kernel_size=(3, 3),\n",
    "            activation=\"relu\",\n",
    "            kernel_initializer=\"he_normal\",\n",
    "            input_shape=(32, 32, 3),\n",
    "        ),\n",
    "        MaxPooling2D(pool_size=(2, 2), strides=2),\n",
    "    ]\n",
    "    for kernel_number in kernel_numbers\n",
    "])\n",
    "model_1__mlp_layers = [Dropout(.3), Dense(512, activation='relu', kernel_initializer='he_normal')]\n",
    "model_1__cnn_layers, model_1__mlp_layers"
   ]
  },
  {
   "cell_type": "code",
   "execution_count": 5,
   "metadata": {},
   "outputs": [
    {
     "name": "stdout",
     "output_type": "stream",
     "text": [
      "Model: \"model_1\"\n",
      "_________________________________________________________________\n",
      " Layer (type)                Output Shape              Param #   \n",
      "=================================================================\n",
      " conv2d (Conv2D)             (None, 32, 32, 32)        896       \n",
      "                                                                 \n",
      " max_pooling2d (MaxPooling2D  (None, 16, 16, 32)       0         \n",
      " )                                                               \n",
      "                                                                 \n",
      " conv2d_1 (Conv2D)           (None, 16, 16, 64)        18496     \n",
      "                                                                 \n",
      " max_pooling2d_1 (MaxPooling  (None, 8, 8, 64)         0         \n",
      " 2D)                                                             \n",
      "                                                                 \n",
      " conv2d_2 (Conv2D)           (None, 8, 8, 128)         73856     \n",
      "                                                                 \n",
      " max_pooling2d_2 (MaxPooling  (None, 4, 4, 128)        0         \n",
      " 2D)                                                             \n",
      "                                                                 \n",
      " conv2d_3 (Conv2D)           (None, 4, 4, 128)         147584    \n",
      "                                                                 \n",
      " max_pooling2d_3 (MaxPooling  (None, 2, 2, 128)        0         \n",
      " 2D)                                                             \n",
      "                                                                 \n",
      " flatten_layer (Flatten)     (None, 512)               0         \n",
      "                                                                 \n",
      " dropout (Dropout)           (None, 512)               0         \n",
      "                                                                 \n",
      " dense (Dense)               (None, 512)               262656    \n",
      "                                                                 \n",
      " output_layer (Dense)        (None, 1)                 513       \n",
      "                                                                 \n",
      "=================================================================\n",
      "Total params: 504,001\n",
      "Trainable params: 504,001\n",
      "Non-trainable params: 0\n",
      "_________________________________________________________________\n"
     ]
    }
   ],
   "source": [
    "model_1 = model_cnn_2_classes(model_1__cnn_layers, model_1__mlp_layers, name='model_1')"
   ]
  },
  {
   "cell_type": "code",
   "execution_count": 6,
   "metadata": {},
   "outputs": [
    {
     "data": {
      "text/plain": [
       "(50, 12)"
      ]
     },
     "execution_count": 6,
     "metadata": {},
     "output_type": "execute_result"
    }
   ],
   "source": [
    "early_stopper = EarlyStopping(monitor='val_acc', mode='max', patience=5, restore_best_weights=True)\n",
    "steps_per_epoch =  int(len(X_train)/32)\n",
    "validation_steps =  int(len(X_val)/32)\n",
    "steps_per_epoch, validation_steps"
   ]
  },
  {
   "cell_type": "code",
   "execution_count": 7,
   "metadata": {},
   "outputs": [
    {
     "name": "stdout",
     "output_type": "stream",
     "text": [
      "Epoch 1/100\n",
      "50/50 [==============================] - 6s 18ms/step - loss: 0.7781 - acc: 0.5056 - val_loss: 0.7391 - val_acc: 0.0260\n",
      "Epoch 2/100\n",
      "50/50 [==============================] - 1s 15ms/step - loss: 0.6943 - acc: 0.5125 - val_loss: 0.6954 - val_acc: 0.4948\n",
      "Epoch 3/100\n",
      "50/50 [==============================] - 1s 15ms/step - loss: 0.6911 - acc: 0.5512 - val_loss: 0.6262 - val_acc: 0.9297\n",
      "Epoch 4/100\n",
      "50/50 [==============================] - 1s 15ms/step - loss: 0.6906 - acc: 0.5544 - val_loss: 0.8149 - val_acc: 0.1068\n",
      "Epoch 5/100\n",
      "50/50 [==============================] - 1s 15ms/step - loss: 0.6802 - acc: 0.5556 - val_loss: 0.6052 - val_acc: 0.8411\n",
      "Epoch 6/100\n",
      "50/50 [==============================] - 1s 16ms/step - loss: 0.6766 - acc: 0.5806 - val_loss: 0.7037 - val_acc: 0.4766\n",
      "Epoch 7/100\n",
      "50/50 [==============================] - 1s 15ms/step - loss: 0.6673 - acc: 0.5906 - val_loss: 0.5294 - val_acc: 0.9271\n",
      "Epoch 8/100\n",
      "50/50 [==============================] - 1s 15ms/step - loss: 0.6719 - acc: 0.5850 - val_loss: 0.5588 - val_acc: 0.8724\n",
      "val_acc: 0.8723958134651184\n"
     ]
    },
    {
     "data": {
      "image/png": "[encoded data removed]",
      "text/plain": [
       "<Figure size 864x288 with 2 Axes>"
      ]
     },
     "metadata": {
      "needs_background": "light"
     },
     "output_type": "display_data"
    }
   ],
   "source": [
    "def fit_then_evaluate_model(model):\n",
    "    model.fit(\n",
    "        train_val_generator,\n",
    "        steps_per_epoch=steps_per_epoch,\n",
    "        epochs=100,\n",
    "        callbacks=[early_stopper],\n",
    "        validation_data=val_generator,\n",
    "        validation_steps=validation_steps,\n",
    "    )\n",
    "    plot_and_print_model_metrics(model)\n",
    "\n",
    "fit_then_evaluate_model(model_1)"
   ]
  }
 ],
 "metadata": {
  "interpreter": {
   "hash": "9aadd0e0da0ea706f82541bb89b831388608f38ec4f1c3a7d485a04ed1d02b14"
  },
  "kernelspec": {
   "display_name": "Python 3.9.9 ('ai21-deep-learning-ifJTOumm')",
   "language": "python",
   "name": "python3"
  },
  "language_info": {
   "codemirror_mode": {
    "name": "ipython",
    "version": 3
   },
   "file_extension": ".py",
   "mimetype": "text/x-python",
   "name": "python",
   "nbconvert_exporter": "python",
   "pygments_lexer": "ipython3",
   "version": "3.9.9"
  },
  "orig_nbformat": 4
 },
 "nbformat": 4,
 "nbformat_minor": 2
}
