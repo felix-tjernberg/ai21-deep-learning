{
 "cells": [
  {
   "cell_type": "markdown",
   "metadata": {},
   "source": [
    "# 2"
   ]
  },
  {
   "cell_type": "code",
   "execution_count": 1,
   "metadata": {},
   "outputs": [],
   "source": [
    "from load_datasets import train_val_generator, val_generator, train_generator, test_generator, X_train\n",
    "from helper_functions import flatten_list\n",
    "from tensorflow.keras.models import Sequential\n",
    "from tensorflow.keras.layers import Dense, Conv2D, Flatten, Dropout, MaxPooling2D\n",
    "from tensorflow.keras.optimizers import Adam"
   ]
  },
  {
   "cell_type": "code",
   "execution_count": 20,
   "metadata": {},
   "outputs": [],
   "source": [
    "def model_cnn_2_classes(\n",
    "    convolution_layers = [],\n",
    "    mlp_layers = [],\n",
    "    *,\n",
    "    flatten_layer = [Flatten(name='flatten_layer')],\n",
    "    name: str = \"cnn_model_2_classes\",\n",
    "    optimizer=Adam(learning_rate=0.001),\n",
    "    metrics=[\"acc\"],\n",
    "):\n",
    "    model = Sequential(convolution_layers + flatten_layer + mlp_layers + [Dense(1, activation='sigmoid', name='output_layer')], name=name)\n",
    "    model.compile(\n",
    "        loss=\"binary_crossentropy\", optimizer=optimizer, metrics=metrics\n",
    "    )\n",
    "    model.summary()\n",
    "    return model"
   ]
  },
  {
   "cell_type": "code",
   "execution_count": 9,
   "metadata": {},
   "outputs": [
    {
     "data": {
      "text/plain": [
       "(32, 32, 3)"
      ]
     },
     "execution_count": 9,
     "metadata": {},
     "output_type": "execute_result"
    }
   ],
   "source": [
    "X_train.shape[1:]"
   ]
  },
  {
   "cell_type": "code",
   "execution_count": 32,
   "metadata": {},
   "outputs": [
    {
     "data": {
      "text/plain": [
       "([<keras.layers.convolutional.Conv2D at 0x29006348b20>,\n",
       "  <keras.layers.pooling.MaxPooling2D at 0x29006358d30>,\n",
       "  <keras.layers.convolutional.Conv2D at 0x290063634c0>,\n",
       "  <keras.layers.pooling.MaxPooling2D at 0x29006366250>,\n",
       "  <keras.layers.convolutional.Conv2D at 0x29006331d30>,\n",
       "  <keras.layers.pooling.MaxPooling2D at 0x2900633cc70>,\n",
       "  <keras.layers.convolutional.Conv2D at 0x29006337be0>,\n",
       "  <keras.layers.pooling.MaxPooling2D at 0x290063373d0>],\n",
       " [<keras.layers.core.dropout.Dropout at 0x29006363c10>,\n",
       "  <keras.layers.core.dense.Dense at 0x29006323340>])"
      ]
     },
     "execution_count": 32,
     "metadata": {},
     "output_type": "execute_result"
    }
   ],
   "source": [
    "input_shape = X_train.shape[1:]\n",
    "kernel_numbers = [32, 64, 128, 128]\n",
    "model_1__cnn_layers = flatten_list([\n",
    "    [\n",
    "        Conv2D(\n",
    "            kernel_number,\n",
    "            padding=\"same\",\n",
    "            kernel_size=(3, 3),\n",
    "            activation=\"relu\",\n",
    "            kernel_initializer=\"he_normal\",\n",
    "            input_shape=(32, 32, 3),\n",
    "        ),\n",
    "        MaxPooling2D(pool_size=(2, 2), strides=2),\n",
    "    ]\n",
    "    for kernel_number in kernel_numbers\n",
    "])\n",
    "model_1__mlp_layers = [Dropout(.3), Dense(512, activation='relu', kernel_initializer='he_normal')]\n",
    "model_1__cnn_layers, model_1__mlp_layers"
   ]
  },
  {
   "cell_type": "code",
   "execution_count": 35,
   "metadata": {},
   "outputs": [
    {
     "name": "stdout",
     "output_type": "stream",
     "text": [
      "Model: \"model_1\"\n",
      "_________________________________________________________________\n",
      " Layer (type)                Output Shape              Param #   \n",
      "=================================================================\n",
      " conv2d_56 (Conv2D)          (None, 32, 32, 32)        896       \n",
      "                                                                 \n",
      " max_pooling2d_56 (MaxPoolin  (None, 16, 16, 32)       0         \n",
      " g2D)                                                            \n",
      "                                                                 \n",
      " conv2d_57 (Conv2D)          (None, 16, 16, 64)        18496     \n",
      "                                                                 \n",
      " max_pooling2d_57 (MaxPoolin  (None, 8, 8, 64)         0         \n",
      " g2D)                                                            \n",
      "                                                                 \n",
      " conv2d_58 (Conv2D)          (None, 8, 8, 128)         73856     \n",
      "                                                                 \n",
      " max_pooling2d_58 (MaxPoolin  (None, 4, 4, 128)        0         \n",
      " g2D)                                                            \n",
      "                                                                 \n",
      " conv2d_59 (Conv2D)          (None, 4, 4, 128)         147584    \n",
      "                                                                 \n",
      " max_pooling2d_59 (MaxPoolin  (None, 2, 2, 128)        0         \n",
      " g2D)                                                            \n",
      "                                                                 \n",
      " flatten_layer (Flatten)     (None, 512)               0         \n",
      "                                                                 \n",
      " dropout_14 (Dropout)        (None, 512)               0         \n",
      "                                                                 \n",
      " dense_17 (Dense)            (None, 512)               262656    \n",
      "                                                                 \n",
      " output_layer (Dense)        (None, 1)                 513       \n",
      "                                                                 \n",
      "=================================================================\n",
      "Total params: 504,001\n",
      "Trainable params: 504,001\n",
      "Non-trainable params: 0\n",
      "_________________________________________________________________\n"
     ]
    }
   ],
   "source": [
    "model_1 = model_cnn_2_classes(model_1__cnn_layers, model_1__mlp_layers, name='model_1')"
   ]
  },
  {
   "cell_type": "code",
   "execution_count": 4,
   "metadata": {},
   "outputs": [],
   "source": []
  }
 ],
 "metadata": {
  "interpreter": {
   "hash": "9aadd0e0da0ea706f82541bb89b831388608f38ec4f1c3a7d485a04ed1d02b14"
  },
  "kernelspec": {
   "display_name": "Python 3.9.9 ('ai21-deep-learning-ifJTOumm')",
   "language": "python",
   "name": "python3"
  },
  "language_info": {
   "codemirror_mode": {
    "name": "ipython",
    "version": 3
   },
   "file_extension": ".py",
   "mimetype": "text/x-python",
   "name": "python",
   "nbconvert_exporter": "python",
   "pygments_lexer": "ipython3",
   "version": "3.9.9"
  },
  "orig_nbformat": 4
 },
 "nbformat": 4,
 "nbformat_minor": 2
}
