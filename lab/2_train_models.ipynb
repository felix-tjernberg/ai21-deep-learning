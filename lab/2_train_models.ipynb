{
 "cells": [
  {
   "cell_type": "markdown",
   "metadata": {},
   "source": [
    "# 2\n"
   ]
  },
  {
   "cell_type": "code",
   "execution_count": 1,
   "metadata": {},
   "outputs": [],
   "source": [
    "from load_datasets import (\n",
    "    train_val_generator,\n",
    "    val_generator,\n",
    "    train_generator,\n",
    "    test_generator,\n",
    "    X_train,\n",
    "    X_val,\n",
    ")\n",
    "from helper_functions import flatten_list, plot_and_print_model_metrics\n",
    "from tensorflow.keras.models import Sequential\n",
    "from tensorflow.keras.layers import Dense, Conv2D, Flatten, Dropout, MaxPooling2D\n",
    "from tensorflow.keras.optimizers import Adam\n",
    "from tensorflow.keras.callbacks import EarlyStopping"
   ]
  },
  {
   "cell_type": "code",
   "execution_count": 2,
   "metadata": {},
   "outputs": [],
   "source": [
    "def model_cnn_2_classes(\n",
    "    convolution_layers=[],\n",
    "    mlp_layers=[],\n",
    "    *,\n",
    "    flatten_layer=[Flatten(name=\"flatten_layer\")],\n",
    "    name: str = \"cnn_model_2_classes\",\n",
    "    optimizer=Adam(learning_rate=0.001),\n",
    "    metrics=[\"acc\"],\n",
    "):\n",
    "    model = Sequential(\n",
    "        convolution_layers\n",
    "        + flatten_layer\n",
    "        + mlp_layers\n",
    "        + [Dense(1, activation=\"sigmoid\", name=\"output_layer\")],\n",
    "        name=name,\n",
    "    )\n",
    "    model.compile(loss=\"binary_crossentropy\", optimizer=optimizer, metrics=metrics)\n",
    "    model.summary()\n",
    "    return model"
   ]
  },
  {
   "cell_type": "code",
   "execution_count": 3,
   "metadata": {},
   "outputs": [
    {
     "data": {
      "text/plain": [
       "(32, 32, 3)"
      ]
     },
     "execution_count": 3,
     "metadata": {},
     "output_type": "execute_result"
    }
   ],
   "source": [
    "X_train.shape[1:]"
   ]
  },
  {
   "cell_type": "code",
   "execution_count": 11,
   "metadata": {},
   "outputs": [
    {
     "data": {
      "text/plain": [
       "([<keras.layers.convolutional.Conv2D at 0x1ec8ee9ce50>,\n",
       "  <keras.layers.pooling.MaxPooling2D at 0x1ef1c13ce80>,\n",
       "  <keras.layers.convolutional.Conv2D at 0x1ef1c112c70>,\n",
       "  <keras.layers.pooling.MaxPooling2D at 0x1ec8b9ae4c0>,\n",
       "  <keras.layers.convolutional.Conv2D at 0x1ef1c0fc820>,\n",
       "  <keras.layers.pooling.MaxPooling2D at 0x1ec8ee9dee0>,\n",
       "  <keras.layers.convolutional.Conv2D at 0x1ef1c142340>,\n",
       "  <keras.layers.pooling.MaxPooling2D at 0x1ef1c1427f0>],\n",
       " [<keras.layers.core.dropout.Dropout at 0x1ec8ee9cc10>,\n",
       "  <keras.layers.core.dense.Dense at 0x1ef1c142cd0>])"
      ]
     },
     "execution_count": 11,
     "metadata": {},
     "output_type": "execute_result"
    }
   ],
   "source": [
    "input_shape = X_train.shape[1:]\n",
    "model_1__kernel_numbers = [32, 64, 128, 128]\n",
    "model_1__cnn_layers = flatten_list([\n",
    "    [\n",
    "        Conv2D(\n",
    "            kernel_number,\n",
    "            padding=\"same\",\n",
    "            kernel_size=(3, 3),\n",
    "            activation=\"relu\",\n",
    "            kernel_initializer=\"he_normal\",\n",
    "            input_shape=(32, 32, 3),\n",
    "        ),\n",
    "        MaxPooling2D(pool_size=(2, 2), strides=2),\n",
    "    ]\n",
    "    for kernel_number in model_1__kernel_numbers\n",
    "])\n",
    "model_1__mlp_layers = [Dropout(.3), Dense(512, activation='relu', kernel_initializer='he_normal')]\n",
    "model_1__cnn_layers, model_1__mlp_layers"
   ]
  },
  {
   "cell_type": "code",
   "execution_count": 12,
   "metadata": {},
   "outputs": [
    {
     "name": "stdout",
     "output_type": "stream",
     "text": [
      "Model: \"model_1\"\n",
      "_________________________________________________________________\n",
      " Layer (type)                Output Shape              Param #   \n",
      "=================================================================\n",
      " conv2d_10 (Conv2D)          (None, 32, 32, 32)        896       \n",
      "                                                                 \n",
      " max_pooling2d_10 (MaxPoolin  (None, 16, 16, 32)       0         \n",
      " g2D)                                                            \n",
      "                                                                 \n",
      " conv2d_11 (Conv2D)          (None, 16, 16, 64)        18496     \n",
      "                                                                 \n",
      " max_pooling2d_11 (MaxPoolin  (None, 8, 8, 64)         0         \n",
      " g2D)                                                            \n",
      "                                                                 \n",
      " conv2d_12 (Conv2D)          (None, 8, 8, 128)         73856     \n",
      "                                                                 \n",
      " max_pooling2d_12 (MaxPoolin  (None, 4, 4, 128)        0         \n",
      " g2D)                                                            \n",
      "                                                                 \n",
      " conv2d_13 (Conv2D)          (None, 4, 4, 128)         147584    \n",
      "                                                                 \n",
      " max_pooling2d_13 (MaxPoolin  (None, 2, 2, 128)        0         \n",
      " g2D)                                                            \n",
      "                                                                 \n",
      " flatten_layer (Flatten)     multiple                  0         \n",
      "                                                                 \n",
      " dropout_2 (Dropout)         (None, 512)               0         \n",
      "                                                                 \n",
      " dense_2 (Dense)             (None, 512)               262656    \n",
      "                                                                 \n",
      " output_layer (Dense)        (None, 1)                 513       \n",
      "                                                                 \n",
      "=================================================================\n",
      "Total params: 504,001\n",
      "Trainable params: 504,001\n",
      "Non-trainable params: 0\n",
      "_________________________________________________________________\n"
     ]
    }
   ],
   "source": [
    "model_1 = model_cnn_2_classes(model_1__cnn_layers, model_1__mlp_layers, name=\"model_1\")"
   ]
  },
  {
   "cell_type": "code",
   "execution_count": 6,
   "metadata": {},
   "outputs": [
    {
     "data": {
      "text/plain": [
       "(50, 12)"
      ]
     },
     "execution_count": 6,
     "metadata": {},
     "output_type": "execute_result"
    }
   ],
   "source": [
    "int(len(X_train) / 32), int(len(X_val) / 32)"
   ]
  },
  {
   "cell_type": "code",
   "execution_count": 13,
   "metadata": {},
   "outputs": [
    {
     "name": "stdout",
     "output_type": "stream",
     "text": [
      "Epoch 1/100\n",
      "50/50 [==============================] - 1s 18ms/step - loss: 0.8127 - acc: 0.5081 - val_loss: 0.7350 - val_acc: 0.0000e+00\n",
      "Epoch 2/100\n",
      "50/50 [==============================] - 1s 16ms/step - loss: 0.6931 - acc: 0.5025 - val_loss: 0.7170 - val_acc: 0.0312\n",
      "Epoch 3/100\n",
      "50/50 [==============================] - 1s 15ms/step - loss: 0.6939 - acc: 0.5044 - val_loss: 0.6948 - val_acc: 0.4948\n",
      "Epoch 4/100\n",
      "50/50 [==============================] - 1s 16ms/step - loss: 0.6862 - acc: 0.5581 - val_loss: 0.5244 - val_acc: 0.9557\n",
      "Epoch 5/100\n",
      "50/50 [==============================] - 1s 15ms/step - loss: 0.6753 - acc: 0.5813 - val_loss: 0.4946 - val_acc: 0.9115\n",
      "Epoch 6/100\n",
      "50/50 [==============================] - 1s 15ms/step - loss: 0.6919 - acc: 0.5231 - val_loss: 0.5997 - val_acc: 0.9349\n",
      "Epoch 7/100\n",
      "50/50 [==============================] - 1s 15ms/step - loss: 0.6694 - acc: 0.5894 - val_loss: 0.5522 - val_acc: 0.8438\n",
      "Epoch 8/100\n",
      "50/50 [==============================] - 1s 15ms/step - loss: 0.6624 - acc: 0.6000 - val_loss: 0.3682 - val_acc: 0.9818\n",
      "Epoch 9/100\n",
      "50/50 [==============================] - 1s 15ms/step - loss: 0.6663 - acc: 0.6006 - val_loss: 0.5017 - val_acc: 0.8750\n",
      "Epoch 10/100\n",
      "50/50 [==============================] - 1s 15ms/step - loss: 0.6422 - acc: 0.6256 - val_loss: 0.7869 - val_acc: 0.3828\n",
      "Epoch 11/100\n",
      "50/50 [==============================] - 1s 16ms/step - loss: 0.6610 - acc: 0.6037 - val_loss: 0.5700 - val_acc: 0.7057\n",
      "Epoch 12/100\n",
      "50/50 [==============================] - 1s 15ms/step - loss: 0.6431 - acc: 0.6244 - val_loss: 0.3264 - val_acc: 0.8984\n",
      "Epoch 13/100\n",
      "50/50 [==============================] - 1s 15ms/step - loss: 0.6348 - acc: 0.6313 - val_loss: 0.3614 - val_acc: 0.8828\n",
      "val_acc: 0.8828125\n"
     ]
    },
    {
     "data": {
      "image/png": "[encoded data removed]",
      "text/plain": [
       "<Figure size 864x288 with 2 Axes>"
      ]
     },
     "metadata": {
      "needs_background": "light"
     },
     "output_type": "display_data"
    }
   ],
   "source": [
    "def fit_then_evaluate_model(\n",
    "    model,\n",
    "    *,\n",
    "    steps_per_epoch=50,\n",
    "    validation_steps=12,\n",
    "    early_stopper=EarlyStopping(\n",
    "        monitor=\"val_acc\", mode=\"max\", patience=5, restore_best_weights=True\n",
    "    )\n",
    "):\n",
    "    model.fit(\n",
    "        train_val_generator,\n",
    "        steps_per_epoch=steps_per_epoch,\n",
    "        epochs=100,\n",
    "        callbacks=[early_stopper],\n",
    "        validation_data=val_generator,\n",
    "        validation_steps=validation_steps,\n",
    "    )\n",
    "    plot_and_print_model_metrics(model)\n",
    "\n",
    "\n",
    "fit_then_evaluate_model(model_1)"
   ]
  },
  {
   "cell_type": "markdown",
   "metadata": {},
   "source": [
    "## b)\n"
   ]
  },
  {
   "cell_type": "code",
   "execution_count": 9,
   "metadata": {},
   "outputs": [
    {
     "name": "stdout",
     "output_type": "stream",
     "text": [
      "Model: \"model_2\"\n",
      "_________________________________________________________________\n",
      " Layer (type)                Output Shape              Param #   \n",
      "=================================================================\n",
      " conv2d_7 (Conv2D)           (None, 32, 32, 32)        896       \n",
      "                                                                 \n",
      " max_pooling2d_7 (MaxPooling  (None, 16, 16, 32)       0         \n",
      " 2D)                                                             \n",
      "                                                                 \n",
      " conv2d_8 (Conv2D)           (None, 16, 16, 64)        18496     \n",
      "                                                                 \n",
      " max_pooling2d_8 (MaxPooling  (None, 8, 8, 64)         0         \n",
      " 2D)                                                             \n",
      "                                                                 \n",
      " conv2d_9 (Conv2D)           (None, 8, 8, 128)         73856     \n",
      "                                                                 \n",
      " max_pooling2d_9 (MaxPooling  (None, 4, 4, 128)        0         \n",
      " 2D)                                                             \n",
      "                                                                 \n",
      " flatten_layer (Flatten)     multiple                  0         \n",
      "                                                                 \n",
      " dropout_1 (Dropout)         (None, 2048)              0         \n",
      "                                                                 \n",
      " dense_1 (Dense)             (None, 512)               1049088   \n",
      "                                                                 \n",
      " output_layer (Dense)        (None, 1)                 513       \n",
      "                                                                 \n",
      "=================================================================\n",
      "Total params: 1,142,849\n",
      "Trainable params: 1,142,849\n",
      "Non-trainable params: 0\n",
      "_________________________________________________________________\n"
     ]
    }
   ],
   "source": [
    "model_2__kernel_numbers = [32, 64, 128]\n",
    "model_2__cnn_layers = flatten_list([\n",
    "    [\n",
    "        Conv2D(\n",
    "            kernel_number,\n",
    "            padding=\"same\",\n",
    "            kernel_size=(3, 3),\n",
    "            activation=\"relu\",\n",
    "            kernel_initializer=\"he_normal\",\n",
    "            input_shape=(32, 32, 3),\n",
    "        ),\n",
    "        MaxPooling2D(pool_size=(2, 2), strides=2),\n",
    "    ]\n",
    "    for kernel_number in model_2__kernel_numbers\n",
    "])\n",
    "model_2__mlp_layers = [Dropout(.3), Dense(512, activation='relu', kernel_initializer='he_normal')]\n",
    "model_2 = model_cnn_2_classes(model_2__cnn_layers, model_2__mlp_layers, name='model_2')"
   ]
  },
  {
   "cell_type": "code",
   "execution_count": null,
   "metadata": {},
   "outputs": [],
   "source": [
    "fit_then_evaluate_model(model_2)"
   ]
  },
  {
   "cell_type": "code",
   "execution_count": 15,
   "metadata": {},
   "outputs": [
    {
     "name": "stdout",
     "output_type": "stream",
     "text": [
      "Model: \"model_3\"\n",
      "_________________________________________________________________\n",
      " Layer (type)                Output Shape              Param #   \n",
      "=================================================================\n",
      " conv2d_18 (Conv2D)          (None, 32, 32, 32)        896       \n",
      "                                                                 \n",
      " max_pooling2d_18 (MaxPoolin  (None, 16, 16, 32)       0         \n",
      " g2D)                                                            \n",
      "                                                                 \n",
      " conv2d_19 (Conv2D)          (None, 16, 16, 64)        18496     \n",
      "                                                                 \n",
      " max_pooling2d_19 (MaxPoolin  (None, 8, 8, 64)         0         \n",
      " g2D)                                                            \n",
      "                                                                 \n",
      " conv2d_20 (Conv2D)          (None, 8, 8, 128)         73856     \n",
      "                                                                 \n",
      " max_pooling2d_20 (MaxPoolin  (None, 4, 4, 128)        0         \n",
      " g2D)                                                            \n",
      "                                                                 \n",
      " conv2d_21 (Conv2D)          (None, 4, 4, 256)         295168    \n",
      "                                                                 \n",
      " max_pooling2d_21 (MaxPoolin  (None, 2, 2, 256)        0         \n",
      " g2D)                                                            \n",
      "                                                                 \n",
      " flatten_layer (Flatten)     multiple                  0         \n",
      "                                                                 \n",
      " dropout_3 (Dropout)         (None, 1024)              0         \n",
      "                                                                 \n",
      " dense_3 (Dense)             (None, 512)               524800    \n",
      "                                                                 \n",
      " output_layer (Dense)        (None, 1)                 513       \n",
      "                                                                 \n",
      "=================================================================\n",
      "Total params: 913,729\n",
      "Trainable params: 913,729\n",
      "Non-trainable params: 0\n",
      "_________________________________________________________________\n"
     ]
    }
   ],
   "source": [
    "model_3__kernel_numbers = [32, 64, 128, 256]\n",
    "model_3__cnn_layers = flatten_list([\n",
    "    [\n",
    "        Conv2D(\n",
    "            kernel_number,\n",
    "            padding=\"same\",\n",
    "            kernel_size=(3, 3),\n",
    "            activation=\"relu\",\n",
    "            kernel_initializer=\"he_normal\",\n",
    "            input_shape=(32, 32, 3),\n",
    "        ),\n",
    "        MaxPooling2D(pool_size=(2, 2), strides=2),\n",
    "    ]\n",
    "    for kernel_number in model_3__kernel_numbers\n",
    "])\n",
    "model_3__mlp_layers = [Dropout(.3), Dense(512, activation='relu', kernel_initializer='he_normal')]\n",
    "model_3 = model_cnn_2_classes(model_3__cnn_layers, model_3__mlp_layers, name='model_3')"
   ]
  },
  {
   "cell_type": "code",
   "execution_count": 16,
   "metadata": {},
   "outputs": [
    {
     "name": "stdout",
     "output_type": "stream",
     "text": [
      "Epoch 1/100\n",
      "50/50 [==============================] - 2s 21ms/step - loss: 0.9937 - acc: 0.5006 - val_loss: 0.7859 - val_acc: 0.0000e+00\n",
      "Epoch 2/100\n",
      "50/50 [==============================] - 1s 16ms/step - loss: 0.6931 - acc: 0.4931 - val_loss: 0.7044 - val_acc: 0.2682\n",
      "Epoch 3/100\n",
      "50/50 [==============================] - 1s 16ms/step - loss: 0.6928 - acc: 0.5375 - val_loss: 0.6829 - val_acc: 0.8151\n",
      "Epoch 4/100\n",
      "50/50 [==============================] - 1s 16ms/step - loss: 0.6910 - acc: 0.5406 - val_loss: 0.7321 - val_acc: 0.4609\n",
      "Epoch 5/100\n",
      "50/50 [==============================] - 1s 16ms/step - loss: 0.6869 - acc: 0.5431 - val_loss: 0.6699 - val_acc: 0.8750\n",
      "Epoch 6/100\n",
      "50/50 [==============================] - 1s 15ms/step - loss: 0.6852 - acc: 0.5469 - val_loss: 0.6556 - val_acc: 0.8438\n",
      "Epoch 7/100\n",
      "50/50 [==============================] - 1s 15ms/step - loss: 0.6810 - acc: 0.5706 - val_loss: 0.6201 - val_acc: 0.9948\n",
      "Epoch 8/100\n",
      "50/50 [==============================] - 1s 16ms/step - loss: 0.6824 - acc: 0.5656 - val_loss: 0.9075 - val_acc: 0.1354\n",
      "Epoch 9/100\n",
      "50/50 [==============================] - 1s 15ms/step - loss: 0.6763 - acc: 0.5763 - val_loss: 0.4666 - val_acc: 0.8958\n",
      "Epoch 10/100\n",
      "50/50 [==============================] - 1s 15ms/step - loss: 0.6549 - acc: 0.6131 - val_loss: 0.4146 - val_acc: 0.9193\n",
      "Epoch 11/100\n",
      "50/50 [==============================] - 1s 15ms/step - loss: 0.6607 - acc: 0.6025 - val_loss: 0.4984 - val_acc: 0.8229\n",
      "Epoch 12/100\n",
      "50/50 [==============================] - 1s 15ms/step - loss: 0.6441 - acc: 0.6263 - val_loss: 0.3183 - val_acc: 0.9714\n",
      "val_acc: 0.9713541865348816\n"
     ]
    },
    {
     "data": {
      "image/png": "[encoded data removed]",
      "text/plain": [
       "<Figure size 864x288 with 2 Axes>"
      ]
     },
     "metadata": {
      "needs_background": "light"
     },
     "output_type": "display_data"
    }
   ],
   "source": [
    "fit_then_evaluate_model(model_3)"
   ]
  }
 ],
 "metadata": {
  "interpreter": {
   "hash": "9aadd0e0da0ea706f82541bb89b831388608f38ec4f1c3a7d485a04ed1d02b14"
  },
  "kernelspec": {
   "display_name": "Python 3.9.9 ('ai21-deep-learning-ifJTOumm')",
   "language": "python",
   "name": "python3"
  },
  "language_info": {
   "codemirror_mode": {
    "name": "ipython",
    "version": 3
   },
   "file_extension": ".py",
   "mimetype": "text/x-python",
   "name": "python",
   "nbconvert_exporter": "python",
   "pygments_lexer": "ipython3",
   "version": "3.9.9"
  },
  "orig_nbformat": 4
 },
 "nbformat": 4,
 "nbformat_minor": 2
}
