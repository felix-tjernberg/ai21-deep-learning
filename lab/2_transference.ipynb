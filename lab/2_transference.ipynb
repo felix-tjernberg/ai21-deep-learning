{
 "cells": [
  {
   "cell_type": "markdown",
   "metadata": {},
   "source": [
    "# 2"
   ]
  },
  {
   "cell_type": "markdown",
   "metadata": {},
   "source": [
    "## Transference combined model method"
   ]
  },
  {
   "cell_type": "code",
   "execution_count": 1,
   "metadata": {},
   "outputs": [],
   "source": [
    "from hyper_tuning_helper_functions import (\n",
    "    model_transference_2_classes,\n",
    "    fit_then_evaluate_model\n",
    ")\n",
    "from load_datasets import create_generators"
   ]
  },
  {
   "cell_type": "code",
   "execution_count": 2,
   "metadata": {},
   "outputs": [
    {
     "name": "stdout",
     "output_type": "stream",
     "text": [
      "Metal device set to: Apple M1 Pro\n",
      "\n",
      "systemMemory: 16.00 GB\n",
      "maxCacheSize: 5.33 GB\n",
      "\n"
     ]
    },
    {
     "name": "stderr",
     "output_type": "stream",
     "text": [
      "2022-05-05 15:34:03.240705: I tensorflow/core/common_runtime/pluggable_device/pluggable_device_factory.cc:305] Could not identify NUMA node of platform GPU ID 0, defaulting to 0. Your kernel may not have been built with NUMA support.\n",
      "2022-05-05 15:34:03.240801: I tensorflow/core/common_runtime/pluggable_device/pluggable_device_factory.cc:271] Created TensorFlow device (/job:localhost/replica:0/task:0/device:GPU:0 with 0 MB memory) -> physical PluggableDevice (device: 0, name: METAL, pci bus id: <undefined>)\n"
     ]
    },
    {
     "ename": "RuntimeError",
     "evalue": "You must compile your model before training/testing. Use `model.compile(optimizer, loss)`.",
     "output_type": "error",
     "traceback": [
      "\u001b[0;31m---------------------------------------------------------------------------\u001b[0m",
      "\u001b[0;31mRuntimeError\u001b[0m                              Traceback (most recent call last)",
      "\u001b[1;32m/Users/creativezone/devarea/ai21-deep-learning/lab/2_transference.ipynb Cell 4'\u001b[0m in \u001b[0;36m<cell line: 9>\u001b[0;34m()\u001b[0m\n\u001b[1;32m      <a href='vscode-notebook-cell:/Users/creativezone/devarea/ai21-deep-learning/lab/2_transference.ipynb#ch0000005?line=6'>7</a>\u001b[0m model_1__node_dropout_pairs \u001b[39m=\u001b[39m [(\u001b[39m512\u001b[39m, \u001b[39m0\u001b[39m)]\n\u001b[1;32m      <a href='vscode-notebook-cell:/Users/creativezone/devarea/ai21-deep-learning/lab/2_transference.ipynb#ch0000005?line=7'>8</a>\u001b[0m model_1 \u001b[39m=\u001b[39m model_transference_2_classes(Xception_model, model_1__node_dropout_pairs, name\u001b[39m=\u001b[39m\u001b[39m\"\u001b[39m\u001b[39mmodel_1\u001b[39m\u001b[39m\"\u001b[39m)\n\u001b[0;32m----> <a href='vscode-notebook-cell:/Users/creativezone/devarea/ai21-deep-learning/lab/2_transference.ipynb#ch0000005?line=8'>9</a>\u001b[0m fit_then_evaluate_model(model_1, train_generator_64x64, val_generator_64x64)\n",
      "File \u001b[0;32m~/devarea/ai21-deep-learning/lab/hyper_tuning_helper_functions.py:134\u001b[0m, in \u001b[0;36mfit_then_evaluate_model\u001b[0;34m(model, train_generator, val_generator, steps_per_epoch, validation_steps, model_fit_verbosity, patience)\u001b[0m\n\u001b[1;32m    <a href='file:///Users/creativezone/devarea/ai21-deep-learning/lab/hyper_tuning_helper_functions.py?line=120'>121</a>\u001b[0m \u001b[39mdef\u001b[39;00m \u001b[39mfit_then_evaluate_model\u001b[39m(\n\u001b[1;32m    <a href='file:///Users/creativezone/devarea/ai21-deep-learning/lab/hyper_tuning_helper_functions.py?line=121'>122</a>\u001b[0m     model,\n\u001b[1;32m    <a href='file:///Users/creativezone/devarea/ai21-deep-learning/lab/hyper_tuning_helper_functions.py?line=122'>123</a>\u001b[0m     train_generator,\n\u001b[0;32m   (...)\u001b[0m\n\u001b[1;32m    <a href='file:///Users/creativezone/devarea/ai21-deep-learning/lab/hyper_tuning_helper_functions.py?line=128'>129</a>\u001b[0m     patience\u001b[39m=\u001b[39m\u001b[39m50\u001b[39m,\n\u001b[1;32m    <a href='file:///Users/creativezone/devarea/ai21-deep-learning/lab/hyper_tuning_helper_functions.py?line=129'>130</a>\u001b[0m ):\n\u001b[1;32m    <a href='file:///Users/creativezone/devarea/ai21-deep-learning/lab/hyper_tuning_helper_functions.py?line=130'>131</a>\u001b[0m     early_stopper \u001b[39m=\u001b[39m EarlyStopping(\n\u001b[1;32m    <a href='file:///Users/creativezone/devarea/ai21-deep-learning/lab/hyper_tuning_helper_functions.py?line=131'>132</a>\u001b[0m         monitor\u001b[39m=\u001b[39m\u001b[39m\"\u001b[39m\u001b[39mval_acc\u001b[39m\u001b[39m\"\u001b[39m, mode\u001b[39m=\u001b[39m\u001b[39m\"\u001b[39m\u001b[39mmax\u001b[39m\u001b[39m\"\u001b[39m, patience\u001b[39m=\u001b[39mpatience, restore_best_weights\u001b[39m=\u001b[39m\u001b[39mTrue\u001b[39;00m\n\u001b[1;32m    <a href='file:///Users/creativezone/devarea/ai21-deep-learning/lab/hyper_tuning_helper_functions.py?line=132'>133</a>\u001b[0m     )\n\u001b[0;32m--> <a href='file:///Users/creativezone/devarea/ai21-deep-learning/lab/hyper_tuning_helper_functions.py?line=133'>134</a>\u001b[0m     model\u001b[39m.\u001b[39;49mfit(\n\u001b[1;32m    <a href='file:///Users/creativezone/devarea/ai21-deep-learning/lab/hyper_tuning_helper_functions.py?line=134'>135</a>\u001b[0m         train_generator,\n\u001b[1;32m    <a href='file:///Users/creativezone/devarea/ai21-deep-learning/lab/hyper_tuning_helper_functions.py?line=135'>136</a>\u001b[0m         steps_per_epoch\u001b[39m=\u001b[39;49msteps_per_epoch,\n\u001b[1;32m    <a href='file:///Users/creativezone/devarea/ai21-deep-learning/lab/hyper_tuning_helper_functions.py?line=136'>137</a>\u001b[0m         epochs\u001b[39m=\u001b[39;49m\u001b[39m100000\u001b[39;49m,\n\u001b[1;32m    <a href='file:///Users/creativezone/devarea/ai21-deep-learning/lab/hyper_tuning_helper_functions.py?line=137'>138</a>\u001b[0m         callbacks\u001b[39m=\u001b[39;49m[early_stopper],\n\u001b[1;32m    <a href='file:///Users/creativezone/devarea/ai21-deep-learning/lab/hyper_tuning_helper_functions.py?line=138'>139</a>\u001b[0m         validation_data\u001b[39m=\u001b[39;49mval_generator,\n\u001b[1;32m    <a href='file:///Users/creativezone/devarea/ai21-deep-learning/lab/hyper_tuning_helper_functions.py?line=139'>140</a>\u001b[0m         validation_steps\u001b[39m=\u001b[39;49mvalidation_steps,\n\u001b[1;32m    <a href='file:///Users/creativezone/devarea/ai21-deep-learning/lab/hyper_tuning_helper_functions.py?line=140'>141</a>\u001b[0m         verbose\u001b[39m=\u001b[39;49mmodel_fit_verbosity,\n\u001b[1;32m    <a href='file:///Users/creativezone/devarea/ai21-deep-learning/lab/hyper_tuning_helper_functions.py?line=141'>142</a>\u001b[0m     )\n\u001b[1;32m    <a href='file:///Users/creativezone/devarea/ai21-deep-learning/lab/hyper_tuning_helper_functions.py?line=142'>143</a>\u001b[0m     metrics \u001b[39m=\u001b[39m pd\u001b[39m.\u001b[39mDataFrame(model\u001b[39m.\u001b[39mhistory\u001b[39m.\u001b[39mhistory)\n\u001b[1;32m    <a href='file:///Users/creativezone/devarea/ai21-deep-learning/lab/hyper_tuning_helper_functions.py?line=143'>144</a>\u001b[0m     plot_and_print_model_metrics(metrics)\n",
      "File \u001b[0;32m~/.local/share/virtualenvs/ai21-deep-learning-WGFYuZhT/lib/python3.9/site-packages/keras/utils/traceback_utils.py:67\u001b[0m, in \u001b[0;36mfilter_traceback.<locals>.error_handler\u001b[0;34m(*args, **kwargs)\u001b[0m\n\u001b[1;32m     <a href='file:///Users/creativezone/.local/share/virtualenvs/ai21-deep-learning-WGFYuZhT/lib/python3.9/site-packages/keras/utils/traceback_utils.py?line=64'>65</a>\u001b[0m \u001b[39mexcept\u001b[39;00m \u001b[39mException\u001b[39;00m \u001b[39mas\u001b[39;00m e:  \u001b[39m# pylint: disable=broad-except\u001b[39;00m\n\u001b[1;32m     <a href='file:///Users/creativezone/.local/share/virtualenvs/ai21-deep-learning-WGFYuZhT/lib/python3.9/site-packages/keras/utils/traceback_utils.py?line=65'>66</a>\u001b[0m   filtered_tb \u001b[39m=\u001b[39m _process_traceback_frames(e\u001b[39m.\u001b[39m__traceback__)\n\u001b[0;32m---> <a href='file:///Users/creativezone/.local/share/virtualenvs/ai21-deep-learning-WGFYuZhT/lib/python3.9/site-packages/keras/utils/traceback_utils.py?line=66'>67</a>\u001b[0m   \u001b[39mraise\u001b[39;00m e\u001b[39m.\u001b[39mwith_traceback(filtered_tb) \u001b[39mfrom\u001b[39;00m \u001b[39mNone\u001b[39m\n\u001b[1;32m     <a href='file:///Users/creativezone/.local/share/virtualenvs/ai21-deep-learning-WGFYuZhT/lib/python3.9/site-packages/keras/utils/traceback_utils.py?line=67'>68</a>\u001b[0m \u001b[39mfinally\u001b[39;00m:\n\u001b[1;32m     <a href='file:///Users/creativezone/.local/share/virtualenvs/ai21-deep-learning-WGFYuZhT/lib/python3.9/site-packages/keras/utils/traceback_utils.py?line=68'>69</a>\u001b[0m   \u001b[39mdel\u001b[39;00m filtered_tb\n",
      "File \u001b[0;32m~/.local/share/virtualenvs/ai21-deep-learning-WGFYuZhT/lib/python3.9/site-packages/keras/engine/training.py:3059\u001b[0m, in \u001b[0;36mModel._assert_compile_was_called\u001b[0;34m(self)\u001b[0m\n\u001b[1;32m   <a href='file:///Users/creativezone/.local/share/virtualenvs/ai21-deep-learning-WGFYuZhT/lib/python3.9/site-packages/keras/engine/training.py?line=3052'>3053</a>\u001b[0m \u001b[39mdef\u001b[39;00m \u001b[39m_assert_compile_was_called\u001b[39m(\u001b[39mself\u001b[39m):\n\u001b[1;32m   <a href='file:///Users/creativezone/.local/share/virtualenvs/ai21-deep-learning-WGFYuZhT/lib/python3.9/site-packages/keras/engine/training.py?line=3053'>3054</a>\u001b[0m   \u001b[39m# Checks whether `compile` has been called. If it has been called,\u001b[39;00m\n\u001b[1;32m   <a href='file:///Users/creativezone/.local/share/virtualenvs/ai21-deep-learning-WGFYuZhT/lib/python3.9/site-packages/keras/engine/training.py?line=3054'>3055</a>\u001b[0m   \u001b[39m# then the optimizer is set. This is different from whether the\u001b[39;00m\n\u001b[1;32m   <a href='file:///Users/creativezone/.local/share/virtualenvs/ai21-deep-learning-WGFYuZhT/lib/python3.9/site-packages/keras/engine/training.py?line=3055'>3056</a>\u001b[0m   \u001b[39m# model is compiled\u001b[39;00m\n\u001b[1;32m   <a href='file:///Users/creativezone/.local/share/virtualenvs/ai21-deep-learning-WGFYuZhT/lib/python3.9/site-packages/keras/engine/training.py?line=3056'>3057</a>\u001b[0m   \u001b[39m# (i.e. whether the model is built and its inputs/outputs are set).\u001b[39;00m\n\u001b[1;32m   <a href='file:///Users/creativezone/.local/share/virtualenvs/ai21-deep-learning-WGFYuZhT/lib/python3.9/site-packages/keras/engine/training.py?line=3057'>3058</a>\u001b[0m   \u001b[39mif\u001b[39;00m \u001b[39mnot\u001b[39;00m \u001b[39mself\u001b[39m\u001b[39m.\u001b[39m_is_compiled:\n\u001b[0;32m-> <a href='file:///Users/creativezone/.local/share/virtualenvs/ai21-deep-learning-WGFYuZhT/lib/python3.9/site-packages/keras/engine/training.py?line=3058'>3059</a>\u001b[0m     \u001b[39mraise\u001b[39;00m \u001b[39mRuntimeError\u001b[39;00m(\u001b[39m'\u001b[39m\u001b[39mYou must compile your model before \u001b[39m\u001b[39m'\u001b[39m\n\u001b[1;32m   <a href='file:///Users/creativezone/.local/share/virtualenvs/ai21-deep-learning-WGFYuZhT/lib/python3.9/site-packages/keras/engine/training.py?line=3059'>3060</a>\u001b[0m                        \u001b[39m'\u001b[39m\u001b[39mtraining/testing. \u001b[39m\u001b[39m'\u001b[39m\n\u001b[1;32m   <a href='file:///Users/creativezone/.local/share/virtualenvs/ai21-deep-learning-WGFYuZhT/lib/python3.9/site-packages/keras/engine/training.py?line=3060'>3061</a>\u001b[0m                        \u001b[39m'\u001b[39m\u001b[39mUse `model.compile(optimizer, loss)`.\u001b[39m\u001b[39m'\u001b[39m)\n",
      "\u001b[0;31mRuntimeError\u001b[0m: You must compile your model before training/testing. Use `model.compile(optimizer, loss)`."
     ]
    }
   ],
   "source": [
    "from tensorflow.keras.applications import Xception\n",
    "\n",
    "Xception_model = Xception(weights=\"imagenet\", include_top=False, input_shape=(299, 299, 3))\n",
    "\n",
    "train_generator_64x64, val_generator_64x64 = create_generators((64,64))\n",
    "\n",
    "model_1__node_dropout_pairs = [(512, 0)]\n",
    "model_1 = model_transference_2_classes(Xception_model, model_1__node_dropout_pairs, name=\"model_1\")\n",
    "fit_then_evaluate_model(model_1, train_generator_64x64, val_generator_64x64);"
   ]
  },
  {
   "cell_type": "markdown",
   "metadata": {},
   "source": [
    "## Transference feature map method"
   ]
  }
 ],
 "metadata": {
  "interpreter": {
   "hash": "8ab85649342dae147ebae0a60e5dbaca3ea59d0f56a6a7299a1dc242a894ae53"
  },
  "kernelspec": {
   "display_name": "Python 3.9.9 ('ai21-deep-learning-WGFYuZhT')",
   "language": "python",
   "name": "python3"
  },
  "language_info": {
   "codemirror_mode": {
    "name": "ipython",
    "version": 3
   },
   "file_extension": ".py",
   "mimetype": "text/x-python",
   "name": "python",
   "nbconvert_exporter": "python",
   "pygments_lexer": "ipython3",
   "version": "3.9.9"
  },
  "orig_nbformat": 4
 },
 "nbformat": 4,
 "nbformat_minor": 2
}
