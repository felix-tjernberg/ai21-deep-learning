{
 "cells": [
  {
   "cell_type": "markdown",
   "metadata": {},
   "source": [
    "# Selecting model"
   ]
  },
  {
   "cell_type": "markdown",
   "metadata": {},
   "source": [
    "## Homebrew Convolutional Neural Network"
   ]
  },
  {
   "cell_type": "code",
   "execution_count": 1,
   "metadata": {},
   "outputs": [],
   "source": [
    "from hyper_tuning_helper_functions import model_cnn_2_classes, show_classification_evaluation_metrics\n",
    "from load_datasets import create_generators, extract_feature_maps"
   ]
  },
  {
   "cell_type": "code",
   "execution_count": 10,
   "metadata": {},
   "outputs": [
    {
     "name": "stderr",
     "output_type": "stream",
     "text": [
      "2022-05-12 15:43:00.629394: I tensorflow/core/grappler/optimizers/custom_graph_optimizer_registry.cc:113] Plugin optimizer for device_type GPU is enabled.\n"
     ]
    },
    {
     "data": {
      "text/plain": [
       "<keras.callbacks.History at 0x2ed924ac0>"
      ]
     },
     "execution_count": 10,
     "metadata": {},
     "output_type": "execute_result"
    }
   ],
   "source": [
    "train_generator_64x64, X_test_64x64, y_test_64x64 = create_generators(\n",
    "    (64, 64), just_train_generator=True\n",
    ")\n",
    "\n",
    "\n",
    "cat_dog_32x32_image_model = model_cnn_2_classes(\n",
    "    [32, 64, 128, 128], [(512, 0)], name=\"model_1\", input_shape=(64, 64, 3)\n",
    ")\n",
    "\n",
    "\n",
    "cat_dog_32x32_image_model.fit(\n",
    "    train_generator_64x64,\n",
    "    steps_per_epoch=50,\n",
    "    epochs=137,\n",
    "    verbose=0,\n",
    ")"
   ]
  },
  {
   "cell_type": "code",
   "execution_count": 11,
   "metadata": {},
   "outputs": [
    {
     "name": "stderr",
     "output_type": "stream",
     "text": [
      "2022-05-12 15:44:39.318403: I tensorflow/core/grappler/optimizers/custom_graph_optimizer_registry.cc:113] Plugin optimizer for device_type GPU is enabled.\n"
     ]
    },
    {
     "name": "stdout",
     "output_type": "stream",
     "text": [
      "              precision    recall  f1-score   support\n",
      "\n",
      "           0       0.64      0.73      0.68       433\n",
      "           1       0.77      0.68      0.72       567\n",
      "\n",
      "    accuracy                           0.70      1000\n",
      "   macro avg       0.70      0.71      0.70      1000\n",
      "weighted avg       0.71      0.70      0.70      1000\n",
      "\n"
     ]
    },
    {
     "data": {
      "image/png": "[encoded data removed]",
      "text/plain": [
       "<Figure size 432x288 with 2 Axes>"
      ]
     },
     "metadata": {
      "needs_background": "light"
     },
     "output_type": "display_data"
    }
   ],
   "source": [
    "y_pred_64x64 = cat_dog_32x32_image_model.predict(X_test_64x64)\n",
    "y_pred_64x64 = (y_pred_64x64 > .5) * 1\n",
    "\n",
    "show_classification_evaluation_metrics(y_test_64x64, y_pred_64x64)"
   ]
  },
  {
   "cell_type": "markdown",
   "metadata": {},
   "source": [
    "## Xception with Random Forest Classifier"
   ]
  },
  {
   "cell_type": "markdown",
   "metadata": {},
   "source": [
    "### Feature Extraction"
   ]
  },
  {
   "cell_type": "code",
   "execution_count": 3,
   "metadata": {},
   "outputs": [
    {
     "name": "stderr",
     "output_type": "stream",
     "text": [
      "2022-05-12 16:07:48.388703: I tensorflow/core/grappler/optimizers/custom_graph_optimizer_registry.cc:113] Plugin optimizer for device_type GPU is enabled.\n"
     ]
    },
    {
     "ename": "KeyboardInterrupt",
     "evalue": "",
     "output_type": "error",
     "traceback": [
      "\u001b[0;31m---------------------------------------------------------------------------\u001b[0m",
      "\u001b[0;31mKeyboardInterrupt\u001b[0m                         Traceback (most recent call last)",
      "\u001b[1;32m/Users/creativezone/devarea/ai21-deep-learning/lab/2_model_selection_and_inference.ipynb Cell 8'\u001b[0m in \u001b[0;36m<cell line: 23>\u001b[0;34m()\u001b[0m\n\u001b[1;32m      <a href='vscode-notebook-cell:/Users/creativezone/devarea/ai21-deep-learning/lab/2_model_selection_and_inference.ipynb#ch0000007?line=7'>8</a>\u001b[0m cat_dog_299x299_feature_extractor \u001b[39m=\u001b[39m Sequential(\n\u001b[1;32m      <a href='vscode-notebook-cell:/Users/creativezone/devarea/ai21-deep-learning/lab/2_model_selection_and_inference.ipynb#ch0000007?line=8'>9</a>\u001b[0m     [\n\u001b[1;32m     <a href='vscode-notebook-cell:/Users/creativezone/devarea/ai21-deep-learning/lab/2_model_selection_and_inference.ipynb#ch0000007?line=9'>10</a>\u001b[0m         Xception(\n\u001b[0;32m   (...)\u001b[0m\n\u001b[1;32m     <a href='vscode-notebook-cell:/Users/creativezone/devarea/ai21-deep-learning/lab/2_model_selection_and_inference.ipynb#ch0000007?line=15'>16</a>\u001b[0m     ]\n\u001b[1;32m     <a href='vscode-notebook-cell:/Users/creativezone/devarea/ai21-deep-learning/lab/2_model_selection_and_inference.ipynb#ch0000007?line=16'>17</a>\u001b[0m )\n\u001b[1;32m     <a href='vscode-notebook-cell:/Users/creativezone/devarea/ai21-deep-learning/lab/2_model_selection_and_inference.ipynb#ch0000007?line=18'>19</a>\u001b[0m train_generator_299x299, X_test_299x299, y_test_299x299 \u001b[39m=\u001b[39m create_generators(\n\u001b[1;32m     <a href='vscode-notebook-cell:/Users/creativezone/devarea/ai21-deep-learning/lab/2_model_selection_and_inference.ipynb#ch0000007?line=19'>20</a>\u001b[0m     (image_size, image_size), just_train_generator\u001b[39m=\u001b[39m\u001b[39mTrue\u001b[39;00m\n\u001b[1;32m     <a href='vscode-notebook-cell:/Users/creativezone/devarea/ai21-deep-learning/lab/2_model_selection_and_inference.ipynb#ch0000007?line=20'>21</a>\u001b[0m )\n\u001b[0;32m---> <a href='vscode-notebook-cell:/Users/creativezone/devarea/ai21-deep-learning/lab/2_model_selection_and_inference.ipynb#ch0000007?line=22'>23</a>\u001b[0m X_train_299x299, y_train_299x299 \u001b[39m=\u001b[39m extract_feature_maps(\n\u001b[1;32m     <a href='vscode-notebook-cell:/Users/creativezone/devarea/ai21-deep-learning/lab/2_model_selection_and_inference.ipynb#ch0000007?line=23'>24</a>\u001b[0m     cat_dog_299x299_feature_extractor, train_generator_299x299\n\u001b[1;32m     <a href='vscode-notebook-cell:/Users/creativezone/devarea/ai21-deep-learning/lab/2_model_selection_and_inference.ipynb#ch0000007?line=24'>25</a>\u001b[0m )\n",
      "\u001b[0;31mKeyboardInterrupt\u001b[0m: "
     ]
    }
   ],
   "source": [
    "from tensorflow.keras.applications import Xception\n",
    "from tensorflow.keras.models import Sequential\n",
    "from tensorflow.keras.layers import GlobalAveragePooling2D\n",
    "from sklearn.ensemble import RandomForestClassifier\n",
    "\n",
    "image_size = 299\n",
    "\n",
    "cat_dog_299x299_feature_extractor = Sequential(\n",
    "    [\n",
    "        Xception(\n",
    "            weights=\"imagenet\",\n",
    "            include_top=False,\n",
    "            input_shape=(image_size, image_size, 3),\n",
    "        ),\n",
    "        GlobalAveragePooling2D(),\n",
    "    ]\n",
    ")\n",
    "\n",
    "train_generator_299x299, X_test_299x299, y_test_299x299 = create_generators(\n",
    "    (image_size, image_size), just_train_generator=True\n",
    ")\n",
    "\n",
    "X_train_299x299, y_train_299x299 = extract_feature_maps(\n",
    "    cat_dog_299x299_feature_extractor, train_generator_299x299\n",
    ")"
   ]
  },
  {
   "cell_type": "markdown",
   "metadata": {},
   "source": [
    "### Prediction"
   ]
  },
  {
   "cell_type": "code",
   "execution_count": null,
   "metadata": {},
   "outputs": [],
   "source": [
    "cat_dog_299x299_image_model = RandomForestClassifier()\n",
    "cat_dog_299x299_image_model.fit(X_train_299x299, y_train_299x299)"
   ]
  },
  {
   "cell_type": "code",
   "execution_count": null,
   "metadata": {},
   "outputs": [],
   "source": [
    "y_pred_299x299 = cat_dog_299x299_image_model.predict(X_test_299x299)\n",
    "\n",
    "show_classification_evaluation_metrics(y_test_299x299, y_pred_299x299)"
   ]
  }
 ],
 "metadata": {
  "interpreter": {
   "hash": "8ab85649342dae147ebae0a60e5dbaca3ea59d0f56a6a7299a1dc242a894ae53"
  },
  "kernelspec": {
   "display_name": "Python 3.9.9 ('ai21-deep-learning-WGFYuZhT')",
   "language": "python",
   "name": "python3"
  },
  "language_info": {
   "codemirror_mode": {
    "name": "ipython",
    "version": 3
   },
   "file_extension": ".py",
   "mimetype": "text/x-python",
   "name": "python",
   "nbconvert_exporter": "python",
   "pygments_lexer": "ipython3",
   "version": "3.9.9"
  },
  "orig_nbformat": 4
 },
 "nbformat": 4,
 "nbformat_minor": 2
}
