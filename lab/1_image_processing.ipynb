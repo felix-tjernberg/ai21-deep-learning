{
 "cells": [
  {
   "cell_type": "markdown",
   "metadata": {},
   "source": [
    "# 1"
   ]
  },
  {
   "cell_type": "code",
   "execution_count": 35,
   "metadata": {},
   "outputs": [],
   "source": [
    "from sys import platform\n",
    "import glob\n",
    "import matplotlib.pyplot as plt\n",
    "from random import shuffle, seed\n",
    "from os.path import abspath\n",
    "import pandas as pd\n",
    "import seaborn as sns\n",
    "import matplotlib.ticker as ticker"
   ]
  },
  {
   "cell_type": "code",
   "execution_count": 19,
   "metadata": {},
   "outputs": [],
   "source": [
    "def check_if_cat_windows(file_path):\n",
    "    if (file_path.split(\"/\")[-1][6:].split(\".\")[0] == 'cat'): \n",
    "        return 0 \n",
    "    else: \n",
    "        return 1\n",
    "\n",
    "def check_if_cat_mac(file_path):\n",
    "    if (file_path.split(\"/\")[-1].split(\".\")[0] == 'cat'): \n",
    "        return 0 \n",
    "    else: \n",
    "        return 1\n",
    "\n",
    "def shuffle_list(list_x:list):\n",
    "    shuffle(list_x)\n",
    "    return list_x"
   ]
  },
  {
   "cell_type": "code",
   "execution_count": 20,
   "metadata": {},
   "outputs": [],
   "source": [
    "seed(418)\n",
    "current_directory = abspath(\"\")\n",
    "\n",
    "if platform == \"darwin\":\n",
    "    train_images = shuffle_list([\n",
    "        (plt.imread(file_path), check_if_cat_mac(file_path))\n",
    "        for file_path in glob.glob(\n",
    "            f\"{current_directory}/experiment_small_dataset/train/*.jpg\"\n",
    "        )\n",
    "    ])\n",
    "\n",
    "    val_images = shuffle_list([\n",
    "        (plt.imread(file_path), check_if_cat_mac(file_path))\n",
    "        for file_path in glob.glob(\n",
    "            f\"{current_directory}/experiment_small_dataset/val/*.jpg\"\n",
    "        )\n",
    "    ])\n",
    "\n",
    "    test_images = shuffle_list([\n",
    "        (plt.imread(file_path), check_if_cat_mac(file_path))\n",
    "        for file_path in glob.glob(\n",
    "            f\"{current_directory}/experiment_small_dataset/test/*.jpg\"\n",
    "        )\n",
    "    ])\n",
    "\n",
    "if platform == \"win32\":\n",
    "    train_images = shuffle_list([\n",
    "        (plt.imread(file_path), check_if_cat_windows(file_path))\n",
    "        for file_path in glob.glob(\n",
    "            f\"{current_directory}/experiment_small_dataset/train/*.jpg\"\n",
    "        )\n",
    "    ])\n",
    "\n",
    "    val_images = shuffle_list([\n",
    "        (plt.imread(file_path), check_if_cat_windows(file_path))\n",
    "        for file_path in glob.glob(\n",
    "            f\"{current_directory}/experiment_small_dataset/val/*.jpg\"\n",
    "        )\n",
    "    ])\n",
    "\n",
    "    test_images = shuffle_list([\n",
    "        (plt.imread(file_path), check_if_cat_windows(file_path))\n",
    "        for file_path in glob.glob(\n",
    "            f\"{current_directory}/experiment_small_dataset/test/*.jpg\"\n",
    "        )\n",
    "    ])"
   ]
  },
  {
   "cell_type": "markdown",
   "metadata": {},
   "source": [
    "## a)"
   ]
  },
  {
   "cell_type": "code",
   "execution_count": 21,
   "metadata": {},
   "outputs": [
    {
     "data": {
      "text/plain": [
       "(500, 374)"
      ]
     },
     "execution_count": 21,
     "metadata": {},
     "output_type": "execute_result"
    }
   ],
   "source": [
    "train_images[1][0].shape[:2]"
   ]
  },
  {
   "cell_type": "code",
   "execution_count": 37,
   "metadata": {},
   "outputs": [],
   "source": [
    "def get_image_size(image_list:list):\n",
    "    return [image[0].shape[:2] for image  in image_list]\n",
    "\n",
    "image_sizes = pd.DataFrame(get_image_size(train_images) + get_image_size(val_images) + get_image_size(test_images), columns=['height', 'width'])"
   ]
  },
  {
   "cell_type": "code",
   "execution_count": 56,
   "metadata": {},
   "outputs": [
    {
     "data": {
      "image/png": "[encoded data removed]",
      "text/plain": [
       "<Figure size 432x432 with 3 Axes>"
      ]
     },
     "metadata": {
      "needs_background": "light"
     },
     "output_type": "display_data"
    }
   ],
   "source": [
    "sns.jointplot(data=image_sizes,x='height', y='width', kind='hist');"
   ]
  },
  {
   "cell_type": "code",
   "execution_count": 53,
   "metadata": {},
   "outputs": [
    {
     "data": {
      "image/png": "[encoded data removed]",
      "text/plain": [
       "<Figure size 432x288 with 1 Axes>"
      ]
     },
     "metadata": {
      "needs_background": "light"
     },
     "output_type": "display_data"
    }
   ],
   "source": [
    "ax = sns.countplot(data=image_sizes, x='height');\n",
    "ax.xaxis.set_major_locator(ticker.MultipleLocator(100))"
   ]
  },
  {
   "cell_type": "code",
   "execution_count": 55,
   "metadata": {},
   "outputs": [
    {
     "data": {
      "image/png": "[encoded data removed]",
      "text/plain": [
       "<Figure size 432x288 with 1 Axes>"
      ]
     },
     "metadata": {
      "needs_background": "light"
     },
     "output_type": "display_data"
    }
   ],
   "source": [
    "ax = sns.countplot(data=image_sizes, x='width');\n",
    "ax.xaxis.set_major_locator(ticker.MultipleLocator(100))"
   ]
  },
  {
   "cell_type": "markdown",
   "metadata": {},
   "source": [
    "## b)"
   ]
  }
 ],
 "metadata": {
  "interpreter": {
   "hash": "9aadd0e0da0ea706f82541bb89b831388608f38ec4f1c3a7d485a04ed1d02b14"
  },
  "kernelspec": {
   "display_name": "Python 3.9.9 ('ai21-deep-learning-ifJTOumm')",
   "language": "python",
   "name": "python3"
  },
  "language_info": {
   "codemirror_mode": {
    "name": "ipython",
    "version": 3
   },
   "file_extension": ".py",
   "mimetype": "text/x-python",
   "name": "python",
   "nbconvert_exporter": "python",
   "pygments_lexer": "ipython3",
   "version": "3.9.9"
  },
  "orig_nbformat": 4
 },
 "nbformat": 4,
 "nbformat_minor": 2
}
