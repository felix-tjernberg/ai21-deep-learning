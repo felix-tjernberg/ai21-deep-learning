{
 "cells": [
  {
   "cell_type": "markdown",
   "metadata": {},
   "source": [
    "# 2d"
   ]
  },
  {
   "cell_type": "code",
   "execution_count": 29,
   "metadata": {},
   "outputs": [],
   "source": [
    "from hyper_tuning_helper_functions import (\n",
    "    model_mlp_2_classes,\n",
    "    fit_then_evaluate_model\n",
    ")\n",
    "from load_datasets import create_generators"
   ]
  },
  {
   "cell_type": "markdown",
   "metadata": {},
   "source": [
    "## Transference combined model method"
   ]
  },
  {
   "cell_type": "code",
   "execution_count": 30,
   "metadata": {},
   "outputs": [],
   "source": [
    "from tensorflow.keras.applications import Xception\n",
    "from tensorflow.keras.models import Sequential\n",
    "from tensorflow.keras.layers import GlobalAveragePooling2D, Flatten\n",
    "\n",
    "image_size = 299\n",
    "\n",
    "train_generator_299x299, val_generator_299x299 = create_generators(\n",
    "    (image_size, image_size)\n",
    ")\n",
    "\n",
    "Xception_model_global_avarage_pooling_output = Sequential(\n",
    "    [\n",
    "        Xception(\n",
    "            weights=\"imagenet\",\n",
    "            include_top=False,\n",
    "            input_shape=(image_size, image_size, 3),\n",
    "        ),\n",
    "        GlobalAveragePooling2D(),\n",
    "    ]\n",
    ")\n",
    "\n",
    "Xception_model_flatten_output = Sequential(\n",
    "    [\n",
    "        Xception(\n",
    "            weights=\"imagenet\",\n",
    "            include_top=False,\n",
    "            input_shape=(image_size, image_size, 3),\n",
    "        ),\n",
    "        Flatten(),\n",
    "    ]\n",
    ")"
   ]
  },
  {
   "cell_type": "code",
   "execution_count": 31,
   "metadata": {},
   "outputs": [
    {
     "name": "stderr",
     "output_type": "stream",
     "text": [
      "2022-05-11 11:44:27.632890: I tensorflow/core/grappler/optimizers/custom_graph_optimizer_registry.cc:113] Plugin optimizer for device_type GPU is enabled.\n"
     ]
    }
   ],
   "source": [
    "X_train_feature_maps = Xception_model_global_avarage_pooling_output.predict(train_generator_299x299)"
   ]
  },
  {
   "cell_type": "code",
   "execution_count": 33,
   "metadata": {},
   "outputs": [],
   "source": [
    "test_predict_generator = Xception_model_global_avarage_pooling_output.predict(train_generator_299x299)"
   ]
  },
  {
   "cell_type": "code",
   "execution_count": 34,
   "metadata": {},
   "outputs": [
    {
     "data": {
      "text/plain": [
       "(1600, 2048)"
      ]
     },
     "execution_count": 34,
     "metadata": {},
     "output_type": "execute_result"
    }
   ],
   "source": [
    "test_predict_generator.shape"
   ]
  },
  {
   "cell_type": "code",
   "execution_count": 35,
   "metadata": {},
   "outputs": [],
   "source": [
    "import numpy as np\n",
    "\n",
    "def extract_X_y_from_generator(generator):\n",
    "    steps = generator.n//generator.batch_size\n",
    "    X, y = [] , []\n",
    "    for _ in range(steps):\n",
    "        X_batch, y_batch = generator.next()\n",
    "        X.extend(X_batch)\n",
    "        y.extend(y_batch)\n",
    "    return np.array(X), np.array(y)\n",
    "\n",
    "def extract_feature_maps(model, generator):\n",
    "    X, y = extract_X_y_from_generator(generator)\n",
    "    return model.predict(X), y"
   ]
  },
  {
   "cell_type": "code",
   "execution_count": 37,
   "metadata": {},
   "outputs": [
    {
     "name": "stderr",
     "output_type": "stream",
     "text": [
      "2022-05-11 11:47:10.197127: I tensorflow/core/grappler/optimizers/custom_graph_optimizer_registry.cc:113] Plugin optimizer for device_type GPU is enabled.\n",
      "2022-05-11 11:47:50.067441: I tensorflow/core/grappler/optimizers/custom_graph_optimizer_registry.cc:113] Plugin optimizer for device_type GPU is enabled.\n",
      "2022-05-11 11:48:22.310163: I tensorflow/core/grappler/optimizers/custom_graph_optimizer_registry.cc:113] Plugin optimizer for device_type GPU is enabled.\n"
     ]
    },
    {
     "data": {
      "text/plain": [
       "((1600, 2048), (1600, 204800), (384, 2048), (368, 204800))"
      ]
     },
     "execution_count": 37,
     "metadata": {},
     "output_type": "execute_result"
    }
   ],
   "source": [
    "X_train_avarage_pooling, y_train_avarage_pooling = extract_feature_maps(Xception_model_global_avarage_pooling_output, train_generator_299x299)\n",
    "\n",
    "X_val_avarage_pooling, y_val_avarage_pooling = extract_feature_maps(Xception_model_global_avarage_pooling_output, val_generator_299x299)\n",
    "\n",
    "\n",
    "\n",
    "X_train_flatten, y_train_flatten = extract_feature_maps(Xception_model_flatten_output, train_generator_299x299)\n",
    "\n",
    "X_val_flatten, y_val_flatten = extract_feature_maps(Xception_model_flatten_output, val_generator_299x299)\n",
    "\n",
    "\n",
    "X_train_avarage_pooling.shape, X_train_flatten.shape, X_val_avarage_pooling.shape, X_val_flatten.shape"
   ]
  },
  {
   "cell_type": "code",
   "execution_count": 38,
   "metadata": {},
   "outputs": [
    {
     "name": "stdout",
     "output_type": "stream",
     "text": [
      "Model: \"transferacne_model_2_classes\"\n",
      "_________________________________________________________________\n",
      " Layer (type)                Output Shape              Param #   \n",
      "=================================================================\n",
      " dropout_8 (Dropout)         (None, 2048)              0         \n",
      "                                                                 \n",
      " dense_4 (Dense)             (None, 512)               1049088   \n",
      "                                                                 \n",
      " dropout_9 (Dropout)         (None, 512)               0         \n",
      "                                                                 \n",
      " output_layer (Dense)        (None, 1)                 513       \n",
      "                                                                 \n",
      "=================================================================\n",
      "Total params: 1,049,601\n",
      "Trainable params: 1,049,601\n",
      "Non-trainable params: 0\n",
      "_________________________________________________________________\n"
     ]
    }
   ],
   "source": [
    "dense_dropout_pairs = [(512,0)]\n",
    "model_1 = model_mlp_2_classes(dense_dropout_pairs, X_train_avarage_pooling.shape[1])\n",
    "model_1.summary()"
   ]
  },
  {
   "cell_type": "code",
   "execution_count": 39,
   "metadata": {},
   "outputs": [
    {
     "name": "stdout",
     "output_type": "stream",
     "text": [
      "Epoch 1/100000\n",
      " 9/50 [====>.........................] - ETA: 0s - loss: 0.4233 - acc: 0.7847 "
     ]
    },
    {
     "name": "stderr",
     "output_type": "stream",
     "text": [
      "2022-05-11 11:48:51.889874: I tensorflow/core/grappler/optimizers/custom_graph_optimizer_registry.cc:113] Plugin optimizer for device_type GPU is enabled.\n"
     ]
    },
    {
     "name": "stdout",
     "output_type": "stream",
     "text": [
      "50/50 [==============================] - 1s 9ms/step - loss: 0.1745 - acc: 0.9244 - val_loss: 0.0456 - val_acc: 0.9844\n",
      "Epoch 2/100000\n",
      "11/50 [=====>........................] - ETA: 0s - loss: 0.0418 - acc: 0.9830"
     ]
    },
    {
     "name": "stderr",
     "output_type": "stream",
     "text": [
      "2022-05-11 11:48:52.332308: I tensorflow/core/grappler/optimizers/custom_graph_optimizer_registry.cc:113] Plugin optimizer for device_type GPU is enabled.\n"
     ]
    },
    {
     "name": "stdout",
     "output_type": "stream",
     "text": [
      "50/50 [==============================] - 0s 6ms/step - loss: 0.0557 - acc: 0.9775 - val_loss: 0.0298 - val_acc: 0.9922\n",
      "Epoch 3/100000\n",
      "50/50 [==============================] - 0s 6ms/step - loss: 0.0399 - acc: 0.9844 - val_loss: 0.0311 - val_acc: 0.9896\n",
      "Epoch 4/100000\n",
      "50/50 [==============================] - 0s 7ms/step - loss: 0.0254 - acc: 0.9900 - val_loss: 0.0346 - val_acc: 0.9922\n",
      "Epoch 5/100000\n",
      "50/50 [==============================] - 0s 6ms/step - loss: 0.0229 - acc: 0.9912 - val_loss: 0.0334 - val_acc: 0.9870\n",
      "Epoch 6/100000\n",
      "50/50 [==============================] - 0s 7ms/step - loss: 0.0140 - acc: 0.9950 - val_loss: 0.0347 - val_acc: 0.9922\n",
      "Epoch 7/100000\n",
      "50/50 [==============================] - 0s 6ms/step - loss: 0.0146 - acc: 0.9931 - val_loss: 0.0418 - val_acc: 0.9922\n",
      "Epoch 8/100000\n",
      "50/50 [==============================] - 0s 6ms/step - loss: 0.0109 - acc: 0.9969 - val_loss: 0.0427 - val_acc: 0.9922\n",
      "Epoch 9/100000\n",
      "50/50 [==============================] - 0s 6ms/step - loss: 0.0134 - acc: 0.9950 - val_loss: 0.0406 - val_acc: 0.9922\n",
      "Epoch 10/100000\n",
      "50/50 [==============================] - 0s 6ms/step - loss: 0.0202 - acc: 0.9919 - val_loss: 0.0472 - val_acc: 0.9922\n",
      "Epoch 11/100000\n",
      "50/50 [==============================] - 0s 6ms/step - loss: 0.0044 - acc: 0.9994 - val_loss: 0.0427 - val_acc: 0.9896\n",
      "Epoch 12/100000\n",
      "50/50 [==============================] - 0s 6ms/step - loss: 0.0032 - acc: 1.0000 - val_loss: 0.0410 - val_acc: 0.9922\n"
     ]
    },
    {
     "data": {
      "text/plain": [
       "<keras.callbacks.History at 0x2f351a7f0>"
      ]
     },
     "execution_count": 39,
     "metadata": {},
     "output_type": "execute_result"
    }
   ],
   "source": [
    "from tensorflow.keras.callbacks import EarlyStopping\n",
    "early_stopper = EarlyStopping(\n",
    "    monitor=\"val_acc\", mode=\"max\", patience=10, restore_best_weights=True\n",
    ")\n",
    "\n",
    "model_1.fit(\n",
    "        X_train_avarage_pooling,\n",
    "        y_train_avarage_pooling,\n",
    "        epochs=100000,\n",
    "        callbacks=[early_stopper],\n",
    "        validation_data=(X_val_avarage_pooling, y_val_avarage_pooling),\n",
    "        verbose=1,\n",
    "    )"
   ]
  },
  {
   "cell_type": "code",
   "execution_count": 41,
   "metadata": {},
   "outputs": [
    {
     "name": "stdout",
     "output_type": "stream",
     "text": [
      "Model: \"transferacne_model_2_classes\"\n",
      "_________________________________________________________________\n",
      " Layer (type)                Output Shape              Param #   \n",
      "=================================================================\n",
      " dropout_10 (Dropout)        (None, 204800)            0         \n",
      "                                                                 \n",
      " dense_5 (Dense)             (None, 512)               104858112 \n",
      "                                                                 \n",
      " dropout_11 (Dropout)        (None, 512)               0         \n",
      "                                                                 \n",
      " output_layer (Dense)        (None, 1)                 513       \n",
      "                                                                 \n",
      "=================================================================\n",
      "Total params: 104,858,625\n",
      "Trainable params: 104,858,625\n",
      "Non-trainable params: 0\n",
      "_________________________________________________________________\n",
      "Epoch 1/100000\n"
     ]
    },
    {
     "name": "stderr",
     "output_type": "stream",
     "text": [
      "2022-05-11 11:55:40.635848: I tensorflow/core/grappler/optimizers/custom_graph_optimizer_registry.cc:113] Plugin optimizer for device_type GPU is enabled.\n"
     ]
    },
    {
     "name": "stdout",
     "output_type": "stream",
     "text": [
      "50/50 [==============================] - ETA: 0s - loss: 7.4920 - acc: 0.9231"
     ]
    },
    {
     "name": "stderr",
     "output_type": "stream",
     "text": [
      "2022-05-11 11:55:46.808696: I tensorflow/core/grappler/optimizers/custom_graph_optimizer_registry.cc:113] Plugin optimizer for device_type GPU is enabled.\n"
     ]
    },
    {
     "name": "stdout",
     "output_type": "stream",
     "text": [
      "50/50 [==============================] - 8s 149ms/step - loss: 7.4920 - acc: 0.9231 - val_loss: 1.1662 - val_acc: 0.9864\n",
      "Epoch 2/100000\n",
      "50/50 [==============================] - 7s 140ms/step - loss: 0.5971 - acc: 0.9775 - val_loss: 1.0455 - val_acc: 0.9918\n",
      "Epoch 3/100000\n",
      "50/50 [==============================] - 7s 133ms/step - loss: 0.2442 - acc: 0.9894 - val_loss: 1.0327 - val_acc: 0.9918\n",
      "Epoch 4/100000\n",
      "50/50 [==============================] - 7s 133ms/step - loss: 0.0479 - acc: 0.9956 - val_loss: 1.0540 - val_acc: 0.9891\n",
      "Epoch 5/100000\n",
      "50/50 [==============================] - 7s 135ms/step - loss: 0.0699 - acc: 0.9962 - val_loss: 1.0965 - val_acc: 0.9918\n",
      "Epoch 6/100000\n",
      "50/50 [==============================] - 7s 135ms/step - loss: 0.0402 - acc: 0.9975 - val_loss: 0.9949 - val_acc: 0.9918\n",
      "Epoch 7/100000\n",
      "50/50 [==============================] - 7s 135ms/step - loss: 0.0510 - acc: 0.9987 - val_loss: 0.9074 - val_acc: 0.9918\n",
      "Epoch 8/100000\n",
      "50/50 [==============================] - 7s 134ms/step - loss: 0.0355 - acc: 0.9975 - val_loss: 0.9588 - val_acc: 0.9918\n",
      "Epoch 9/100000\n",
      "50/50 [==============================] - 7s 135ms/step - loss: 0.0029 - acc: 0.9987 - val_loss: 0.9569 - val_acc: 0.9918\n",
      "Epoch 10/100000\n",
      "50/50 [==============================] - 7s 134ms/step - loss: 1.5751e-08 - acc: 1.0000 - val_loss: 0.9710 - val_acc: 0.9918\n",
      "Epoch 11/100000\n",
      "50/50 [==============================] - 7s 135ms/step - loss: 9.3475e-09 - acc: 1.0000 - val_loss: 0.9711 - val_acc: 0.9918\n",
      "Epoch 12/100000\n",
      "50/50 [==============================] - 7s 138ms/step - loss: 0.0000e+00 - acc: 1.0000 - val_loss: 0.9711 - val_acc: 0.9918\n"
     ]
    },
    {
     "data": {
      "text/plain": [
       "<keras.callbacks.History at 0x2f6ba8640>"
      ]
     },
     "execution_count": 41,
     "metadata": {},
     "output_type": "execute_result"
    }
   ],
   "source": [
    "from tensorflow.keras.callbacks import EarlyStopping\n",
    "early_stopper = EarlyStopping(\n",
    "    monitor=\"val_acc\", mode=\"max\", patience=10, restore_best_weights=True\n",
    ")\n",
    "model_1 = model_mlp_2_classes(dense_dropout_pairs, X_train_flatten.shape[1])\n",
    "model_1.summary()\n",
    "model_1.fit(\n",
    "        X_train_flatten,\n",
    "        y_train_flatten,\n",
    "        epochs=100000,\n",
    "        callbacks=[early_stopper],\n",
    "        validation_data=(X_val_flatten, y_val_flatten),\n",
    "        verbose=1,\n",
    "    )"
   ]
  },
  {
   "cell_type": "code",
   "execution_count": null,
   "metadata": {},
   "outputs": [],
   "source": [
    "# TODO 4: testa olika mlp's\n",
    "# TODO 5: testa använd random forest istället för mlp"
   ]
  }
 ],
 "metadata": {
  "kernelspec": {
   "display_name": "Python 3.9.9 ('ai21-deep-learning-WGFYuZhT')",
   "language": "python",
   "name": "python3"
  },
  "language_info": {
   "codemirror_mode": {
    "name": "ipython",
    "version": 3
   },
   "file_extension": ".py",
   "mimetype": "text/x-python",
   "name": "python",
   "nbconvert_exporter": "python",
   "pygments_lexer": "ipython3",
   "version": "3.9.9"
  },
  "orig_nbformat": 4,
  "vscode": {
   "interpreter": {
    "hash": "8ab85649342dae147ebae0a60e5dbaca3ea59d0f56a6a7299a1dc242a894ae53"
   }
  }
 },
 "nbformat": 4,
 "nbformat_minor": 2
}
