{
 "cells": [
  {
   "cell_type": "markdown",
   "metadata": {},
   "source": [
    "# 2d"
   ]
  },
  {
   "cell_type": "code",
   "execution_count": null,
   "metadata": {},
   "outputs": [],
   "source": [
    "from hyper_tuning_helper_functions import (\n",
    "    model_transference_2_classes_combined_method,\n",
    "    fit_then_evaluate_model\n",
    ")\n",
    "from load_datasets import create_generators"
   ]
  },
  {
   "cell_type": "markdown",
   "metadata": {},
   "source": [
    "## Transference combined model method"
   ]
  },
  {
   "cell_type": "code",
   "execution_count": null,
   "metadata": {},
   "outputs": [],
   "source": [
    "from tensorflow.keras.applications import Xception"
   ]
  },
  {
   "cell_type": "code",
   "execution_count": null,
   "metadata": {},
   "outputs": [],
   "source": [
    "# TODO 1: Setup inception to make predictions on all pictures ie create feature maps\n",
    "# TODO 2: Feed that input to a mlp model and train on that data\n",
    "\n",
    "image_size = 299\n",
    "\n",
    "Xception_model = Xception(weights=\"imagenet\", include_top=False, input_shape=(image_size, image_size, 3))\n",
    "\n",
    "train_generator_299x299, val_generator_299x299 = create_generators((image_size, image_size))\n",
    "\n"
   ]
  }
 ],
 "metadata": {
  "interpreter": {
   "hash": "9aadd0e0da0ea706f82541bb89b831388608f38ec4f1c3a7d485a04ed1d02b14"
  },
  "kernelspec": {
   "display_name": "Python 3.9.9 ('ai21-deep-learning-ifJTOumm')",
   "language": "python",
   "name": "python3"
  },
  "language_info": {
   "name": "python",
   "version": "3.9.9"
  },
  "orig_nbformat": 4
 },
 "nbformat": 4,
 "nbformat_minor": 2
}
