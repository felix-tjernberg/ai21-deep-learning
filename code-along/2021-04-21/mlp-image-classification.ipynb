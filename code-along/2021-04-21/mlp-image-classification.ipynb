{
 "cells": [
  {
   "cell_type": "markdown",
   "metadata": {},
   "source": [
    "# [MLP Image Classification](https://github.com/kokchun/Deep-learning-AI21/blob/main/Lectures/Lec1-MLP_image_classification.ipynb)"
   ]
  },
  {
   "cell_type": "code",
   "execution_count": 47,
   "metadata": {},
   "outputs": [],
   "source": [
    "import matplotlib.pyplot as plt\n",
    "import pandas as pd\n",
    "import tensorflow\n",
    "import numpy as np\n",
    "from tensorflow.keras.datasets.mnist import load_data"
   ]
  },
  {
   "cell_type": "code",
   "execution_count": 48,
   "metadata": {},
   "outputs": [
    {
     "name": "stderr",
     "output_type": "stream",
     "text": [
      "2022-04-21 11:31:10.623911: I tensorflow/core/common_runtime/pluggable_device/pluggable_device_factory.cc:305] Could not identify NUMA node of platform GPU ID 0, defaulting to 0. Your kernel may not have been built with NUMA support.\n",
      "2022-04-21 11:31:10.623938: I tensorflow/core/common_runtime/pluggable_device/pluggable_device_factory.cc:271] Created TensorFlow device (/device:GPU:0 with 0 MB memory) -> physical PluggableDevice (device: 0, name: METAL, pci bus id: <undefined>)\n"
     ]
    },
    {
     "data": {
      "text/plain": [
       "['/device:CPU:0', '/device:GPU:0']"
      ]
     },
     "execution_count": 48,
     "metadata": {},
     "output_type": "execute_result"
    }
   ],
   "source": [
    "from tensorflow.python.client import device_lib\n",
    "\n",
    "def get_available_devices():\n",
    "    local_device_protos = device_lib.list_local_devices()\n",
    "    return [x.name for x in local_device_protos if x.device_type == 'GPU' or x.device_type == 'CPU']\n",
    "\n",
    "get_available_devices()"
   ]
  },
  {
   "cell_type": "code",
   "execution_count": 49,
   "metadata": {},
   "outputs": [
    {
     "data": {
      "text/plain": [
       "((60000, 28, 28), (10000, 28, 28))"
      ]
     },
     "execution_count": 49,
     "metadata": {},
     "output_type": "execute_result"
    }
   ],
   "source": [
    "(X_train, y_train), (X_test, y_test) = load_data()\n",
    "X_train.shape, X_test.shape"
   ]
  },
  {
   "cell_type": "markdown",
   "metadata": {},
   "source": [
    "## Normalize data"
   ]
  },
  {
   "cell_type": "code",
   "execution_count": 50,
   "metadata": {},
   "outputs": [
    {
     "data": {
      "text/plain": [
       "(255, 0)"
      ]
     },
     "execution_count": 50,
     "metadata": {},
     "output_type": "execute_result"
    }
   ],
   "source": [
    "X_train.max(), X_train.min()"
   ]
  },
  {
   "cell_type": "code",
   "execution_count": 51,
   "metadata": {},
   "outputs": [
    {
     "data": {
      "text/plain": [
       "array([[[0, 0, 0, ..., 0, 0, 0],\n",
       "        [0, 0, 0, ..., 0, 0, 0],\n",
       "        [0, 0, 0, ..., 0, 0, 0],\n",
       "        ...,\n",
       "        [0, 0, 0, ..., 0, 0, 0],\n",
       "        [0, 0, 0, ..., 0, 0, 0],\n",
       "        [0, 0, 0, ..., 0, 0, 0]],\n",
       "\n",
       "       [[0, 0, 0, ..., 0, 0, 0],\n",
       "        [0, 0, 0, ..., 0, 0, 0],\n",
       "        [0, 0, 0, ..., 0, 0, 0],\n",
       "        ...,\n",
       "        [0, 0, 0, ..., 0, 0, 0],\n",
       "        [0, 0, 0, ..., 0, 0, 0],\n",
       "        [0, 0, 0, ..., 0, 0, 0]],\n",
       "\n",
       "       [[0, 0, 0, ..., 0, 0, 0],\n",
       "        [0, 0, 0, ..., 0, 0, 0],\n",
       "        [0, 0, 0, ..., 0, 0, 0],\n",
       "        ...,\n",
       "        [0, 0, 0, ..., 0, 0, 0],\n",
       "        [0, 0, 0, ..., 0, 0, 0],\n",
       "        [0, 0, 0, ..., 0, 0, 0]],\n",
       "\n",
       "       ...,\n",
       "\n",
       "       [[0, 0, 0, ..., 0, 0, 0],\n",
       "        [0, 0, 0, ..., 0, 0, 0],\n",
       "        [0, 0, 0, ..., 0, 0, 0],\n",
       "        ...,\n",
       "        [0, 0, 0, ..., 0, 0, 0],\n",
       "        [0, 0, 0, ..., 0, 0, 0],\n",
       "        [0, 0, 0, ..., 0, 0, 0]],\n",
       "\n",
       "       [[0, 0, 0, ..., 0, 0, 0],\n",
       "        [0, 0, 0, ..., 0, 0, 0],\n",
       "        [0, 0, 0, ..., 0, 0, 0],\n",
       "        ...,\n",
       "        [0, 0, 0, ..., 0, 0, 0],\n",
       "        [0, 0, 0, ..., 0, 0, 0],\n",
       "        [0, 0, 0, ..., 0, 0, 0]],\n",
       "\n",
       "       [[0, 0, 0, ..., 0, 0, 0],\n",
       "        [0, 0, 0, ..., 0, 0, 0],\n",
       "        [0, 0, 0, ..., 0, 0, 0],\n",
       "        ...,\n",
       "        [0, 0, 0, ..., 0, 0, 0],\n",
       "        [0, 0, 0, ..., 0, 0, 0],\n",
       "        [0, 0, 0, ..., 0, 0, 0]]], dtype=uint8)"
      ]
     },
     "execution_count": 51,
     "metadata": {},
     "output_type": "execute_result"
    }
   ],
   "source": [
    "X_train"
   ]
  },
  {
   "cell_type": "code",
   "execution_count": 52,
   "metadata": {},
   "outputs": [
    {
     "data": {
      "text/plain": [
       "(0.0, 1.0)"
      ]
     },
     "execution_count": 52,
     "metadata": {},
     "output_type": "execute_result"
    }
   ],
   "source": [
    "scaled_X_train = X_train.astype('float32')/255\n",
    "scaled_X_test = X_test.astype('float32')/255\n",
    "scaled_X_test.min(), scaled_X_train.max()"
   ]
  },
  {
   "cell_type": "code",
   "execution_count": 53,
   "metadata": {},
   "outputs": [
    {
     "data": {
      "image/png": "[encoded data removed]",
      "text/plain": [
       "<Figure size 864x288 with 10 Axes>"
      ]
     },
     "metadata": {
      "needs_background": "light"
     },
     "output_type": "display_data"
    }
   ],
   "source": [
    "def display_images(data, rows=2, cols=5, figsize=(12,4)):\n",
    "    fig, axes = plt.subplots(rows,cols, figsize=figsize)\n",
    "\n",
    "    for i, ax in enumerate(axes.flatten()):\n",
    "        ax.imshow(data[i, :, :], cmap='gray')\n",
    "        ax.axis('off')\n",
    "    fig.subplots_adjust(wspace=0, hspace=.1, bottom=0)\n",
    "\n",
    "display_images(X_train)"
   ]
  },
  {
   "cell_type": "markdown",
   "metadata": {},
   "source": [
    "## MLP model"
   ]
  },
  {
   "cell_type": "code",
   "execution_count": 54,
   "metadata": {},
   "outputs": [],
   "source": [
    "from tensorflow.keras import Sequential\n",
    "from tensorflow.keras.layers import Flatten, Dense\n",
    "\n",
    "\n",
    "def MLP_model(nodes=None, names=None, activations=[]):\n",
    "    model = Sequential(name=\"MLP_model\")\n",
    "    model.add(Flatten(input_shape=(28, 28), name=\"Input_layer\"))\n",
    "\n",
    "    for node, name, activation in zip(nodes, names, activations):\n",
    "        model.add(Dense(node, name=name, activation=activation))\n",
    "\n",
    "    model.compile(\n",
    "        loss=\"sparse_categorical_crossentropy\", optimizer=\"adam\", metrics=[\"accuracy\"]\n",
    "    )\n",
    "\n",
    "    return model\n"
   ]
  },
  {
   "cell_type": "code",
   "execution_count": 55,
   "metadata": {},
   "outputs": [
    {
     "data": {
      "text/plain": [
       "array([5, 0, 4, ..., 5, 6, 8], dtype=uint8)"
      ]
     },
     "execution_count": 55,
     "metadata": {},
     "output_type": "execute_result"
    }
   ],
   "source": [
    "y_train"
   ]
  },
  {
   "cell_type": "code",
   "execution_count": 56,
   "metadata": {},
   "outputs": [
    {
     "name": "stdout",
     "output_type": "stream",
     "text": [
      "Model: \"MLP_model\"\n",
      "_________________________________________________________________\n",
      " Layer (type)                Output Shape              Param #   \n",
      "=================================================================\n",
      " Input_layer (Flatten)       (None, 784)               0         \n",
      "                                                                 \n",
      " output_layer (Dense)        (None, 10)                7850      \n",
      "                                                                 \n",
      "=================================================================\n",
      "Total params: 7,850\n",
      "Trainable params: 7,850\n",
      "Non-trainable params: 0\n",
      "_________________________________________________________________\n"
     ]
    }
   ],
   "source": [
    "with tensorflow.device('/device:CPU:0'):\n",
    "    model_1 = MLP_model(nodes=[10], names=['output_layer'], activations=['softmax'])\n",
    "    model_1.summary()"
   ]
  },
  {
   "cell_type": "code",
   "execution_count": 57,
   "metadata": {},
   "outputs": [
    {
     "name": "stdout",
     "output_type": "stream",
     "text": [
      "Epoch 1/20\n",
      "1563/1563 [==============================] - 1s 519us/step - loss: 0.5092 - accuracy: 0.8667 - val_loss: 0.3083 - val_accuracy: 0.9162\n",
      "Epoch 2/20\n",
      "1563/1563 [==============================] - 1s 534us/step - loss: 0.3169 - accuracy: 0.9116 - val_loss: 0.2800 - val_accuracy: 0.9216\n",
      "Epoch 3/20\n",
      "1563/1563 [==============================] - 1s 514us/step - loss: 0.2929 - accuracy: 0.9181 - val_loss: 0.2677 - val_accuracy: 0.9246\n",
      "Epoch 4/20\n",
      "1563/1563 [==============================] - 1s 515us/step - loss: 0.2815 - accuracy: 0.9214 - val_loss: 0.2605 - val_accuracy: 0.9299\n",
      "Epoch 5/20\n",
      "1563/1563 [==============================] - 1s 491us/step - loss: 0.2737 - accuracy: 0.9228 - val_loss: 0.2557 - val_accuracy: 0.9315\n",
      "Epoch 6/20\n",
      "1563/1563 [==============================] - 1s 491us/step - loss: 0.2684 - accuracy: 0.9247 - val_loss: 0.2591 - val_accuracy: 0.9286\n",
      "Epoch 7/20\n",
      "1563/1563 [==============================] - 1s 469us/step - loss: 0.2639 - accuracy: 0.9262 - val_loss: 0.2570 - val_accuracy: 0.9291\n",
      "Epoch 8/20\n",
      "1563/1563 [==============================] - 1s 471us/step - loss: 0.2605 - accuracy: 0.9280 - val_loss: 0.2535 - val_accuracy: 0.9312\n",
      "Epoch 9/20\n",
      "1563/1563 [==============================] - 1s 477us/step - loss: 0.2577 - accuracy: 0.9283 - val_loss: 0.2565 - val_accuracy: 0.9320\n",
      "Epoch 10/20\n",
      "1563/1563 [==============================] - 1s 495us/step - loss: 0.2557 - accuracy: 0.9284 - val_loss: 0.2524 - val_accuracy: 0.9316\n",
      "Epoch 11/20\n",
      "1563/1563 [==============================] - 1s 494us/step - loss: 0.2537 - accuracy: 0.9299 - val_loss: 0.2535 - val_accuracy: 0.9301\n",
      "Epoch 12/20\n",
      "1563/1563 [==============================] - 1s 496us/step - loss: 0.2520 - accuracy: 0.9298 - val_loss: 0.2560 - val_accuracy: 0.9302\n",
      "Epoch 13/20\n",
      "1563/1563 [==============================] - 1s 464us/step - loss: 0.2501 - accuracy: 0.9303 - val_loss: 0.2532 - val_accuracy: 0.9301\n",
      "Epoch 14/20\n",
      "1563/1563 [==============================] - 1s 458us/step - loss: 0.2484 - accuracy: 0.9316 - val_loss: 0.2579 - val_accuracy: 0.9303\n",
      "Epoch 15/20\n",
      "1563/1563 [==============================] - 1s 488us/step - loss: 0.2473 - accuracy: 0.9313 - val_loss: 0.2560 - val_accuracy: 0.9306\n",
      "Epoch 16/20\n",
      "1563/1563 [==============================] - 1s 457us/step - loss: 0.2459 - accuracy: 0.9317 - val_loss: 0.2551 - val_accuracy: 0.9312\n",
      "Epoch 17/20\n",
      "1563/1563 [==============================] - 1s 498us/step - loss: 0.2448 - accuracy: 0.9317 - val_loss: 0.2540 - val_accuracy: 0.9326\n",
      "Epoch 18/20\n",
      "1563/1563 [==============================] - 1s 509us/step - loss: 0.2441 - accuracy: 0.9317 - val_loss: 0.2527 - val_accuracy: 0.9318\n",
      "Epoch 19/20\n",
      "1563/1563 [==============================] - 1s 473us/step - loss: 0.2431 - accuracy: 0.9319 - val_loss: 0.2568 - val_accuracy: 0.9302\n",
      "Epoch 20/20\n",
      "1563/1563 [==============================] - 1s 478us/step - loss: 0.2427 - accuracy: 0.9326 - val_loss: 0.2531 - val_accuracy: 0.9316\n"
     ]
    }
   ],
   "source": [
    "with tensorflow.device('/device:CPU:0'):\n",
    "    model_1.fit(scaled_X_train, y_train, validation_split=1/6, epochs=20, verbose=1)"
   ]
  },
  {
   "cell_type": "code",
   "execution_count": 58,
   "metadata": {},
   "outputs": [
    {
     "data": {
      "text/html": [
       "<div>\n",
       "<style scoped>\n",
       "    .dataframe tbody tr th:only-of-type {\n",
       "        vertical-align: middle;\n",
       "    }\n",
       "\n",
       "    .dataframe tbody tr th {\n",
       "        vertical-align: top;\n",
       "    }\n",
       "\n",
       "    .dataframe thead th {\n",
       "        text-align: right;\n",
       "    }\n",
       "</style>\n",
       "<table border=\"1\" class=\"dataframe\">\n",
       "  <thead>\n",
       "    <tr style=\"text-align: right;\">\n",
       "      <th></th>\n",
       "      <th>loss</th>\n",
       "      <th>accuracy</th>\n",
       "      <th>val_loss</th>\n",
       "      <th>val_accuracy</th>\n",
       "    </tr>\n",
       "  </thead>\n",
       "  <tbody>\n",
       "    <tr>\n",
       "      <th>0</th>\n",
       "      <td>0.509217</td>\n",
       "      <td>0.86668</td>\n",
       "      <td>0.308316</td>\n",
       "      <td>0.9162</td>\n",
       "    </tr>\n",
       "    <tr>\n",
       "      <th>1</th>\n",
       "      <td>0.316850</td>\n",
       "      <td>0.91158</td>\n",
       "      <td>0.279970</td>\n",
       "      <td>0.9216</td>\n",
       "    </tr>\n",
       "    <tr>\n",
       "      <th>2</th>\n",
       "      <td>0.292917</td>\n",
       "      <td>0.91808</td>\n",
       "      <td>0.267682</td>\n",
       "      <td>0.9246</td>\n",
       "    </tr>\n",
       "    <tr>\n",
       "      <th>3</th>\n",
       "      <td>0.281484</td>\n",
       "      <td>0.92142</td>\n",
       "      <td>0.260512</td>\n",
       "      <td>0.9299</td>\n",
       "    </tr>\n",
       "    <tr>\n",
       "      <th>4</th>\n",
       "      <td>0.273719</td>\n",
       "      <td>0.92284</td>\n",
       "      <td>0.255731</td>\n",
       "      <td>0.9315</td>\n",
       "    </tr>\n",
       "  </tbody>\n",
       "</table>\n",
       "</div>"
      ],
      "text/plain": [
       "       loss  accuracy  val_loss  val_accuracy\n",
       "0  0.509217   0.86668  0.308316        0.9162\n",
       "1  0.316850   0.91158  0.279970        0.9216\n",
       "2  0.292917   0.91808  0.267682        0.9246\n",
       "3  0.281484   0.92142  0.260512        0.9299\n",
       "4  0.273719   0.92284  0.255731        0.9315"
      ]
     },
     "execution_count": 58,
     "metadata": {},
     "output_type": "execute_result"
    }
   ],
   "source": [
    "metrics = pd.DataFrame(model_1.history.history)\n",
    "metrics.index = range(len(metrics))\n",
    "metrics.head()"
   ]
  },
  {
   "cell_type": "code",
   "execution_count": 59,
   "metadata": {},
   "outputs": [
    {
     "data": {
      "image/png": "[encoded data removed]",
      "text/plain": [
       "<Figure size 864x288 with 2 Axes>"
      ]
     },
     "metadata": {
      "needs_background": "light"
     },
     "output_type": "display_data"
    }
   ],
   "source": [
    "def plot_metrics(df_history, style=\"-o\"):\n",
    "    _, axes = plt.subplots(1, 2, figsize=(12, 4))\n",
    "    columns = [[\"loss\", \"val_loss\"], [\"accuracy\", \"val_accuracy\"]]\n",
    "    for ax, column in zip(axes, columns):\n",
    "        df_history.plot(y=column, xlabel=\"Epochs\", ylabel=column[0], ax=ax, style=style)\n",
    "\n",
    "plot_metrics(metrics)"
   ]
  },
  {
   "cell_type": "markdown",
   "metadata": {},
   "source": [
    "## Hidden layers"
   ]
  },
  {
   "cell_type": "code",
   "execution_count": 60,
   "metadata": {},
   "outputs": [
    {
     "name": "stdout",
     "output_type": "stream",
     "text": [
      "Model: \"MLP_model\"\n",
      "_________________________________________________________________\n",
      " Layer (type)                Output Shape              Param #   \n",
      "=================================================================\n",
      " Input_layer (Flatten)       (None, 784)               0         \n",
      "                                                                 \n",
      " hidden_1 (Dense)            (None, 128)               100480    \n",
      "                                                                 \n",
      " hidden_2 (Dense)            (None, 128)               16512     \n",
      "                                                                 \n",
      " output (Dense)              (None, 10)                1290      \n",
      "                                                                 \n",
      "=================================================================\n",
      "Total params: 118,282\n",
      "Trainable params: 118,282\n",
      "Non-trainable params: 0\n",
      "_________________________________________________________________\n"
     ]
    }
   ],
   "source": [
    "model_2 = MLP_model(nodes=[128,128,10], activations=['relu', 'relu', 'softmax'], names=['hidden_1', 'hidden_2', 'output'])\n",
    "model_2.summary()"
   ]
  },
  {
   "cell_type": "code",
   "execution_count": 61,
   "metadata": {},
   "outputs": [
    {
     "name": "stdout",
     "output_type": "stream",
     "text": [
      "Epoch 1/20\n",
      "  41/1563 [..............................] - ETA: 5s - loss: 1.4146 - accuracy: 0.5983"
     ]
    },
    {
     "name": "stderr",
     "output_type": "stream",
     "text": [
      "2022-04-21 11:31:27.082245: I tensorflow/core/grappler/optimizers/custom_graph_optimizer_registry.cc:113] Plugin optimizer for device_type GPU is enabled.\n"
     ]
    },
    {
     "name": "stdout",
     "output_type": "stream",
     "text": [
      "1549/1563 [============================>.] - ETA: 0s - loss: 0.2530 - accuracy: 0.9250"
     ]
    },
    {
     "name": "stderr",
     "output_type": "stream",
     "text": [
      "2022-04-21 11:31:32.819159: I tensorflow/core/grappler/optimizers/custom_graph_optimizer_registry.cc:113] Plugin optimizer for device_type GPU is enabled.\n"
     ]
    },
    {
     "name": "stdout",
     "output_type": "stream",
     "text": [
      "1563/1563 [==============================] - 7s 4ms/step - loss: 0.2522 - accuracy: 0.9252 - val_loss: 0.1197 - val_accuracy: 0.9639\n",
      "Epoch 2/20\n",
      "1563/1563 [==============================] - 6s 4ms/step - loss: 0.1048 - accuracy: 0.9687 - val_loss: 0.1012 - val_accuracy: 0.9690\n",
      "Epoch 3/20\n",
      "1563/1563 [==============================] - 6s 4ms/step - loss: 0.0731 - accuracy: 0.9772 - val_loss: 0.0939 - val_accuracy: 0.9725\n",
      "Epoch 4/20\n",
      "1563/1563 [==============================] - 6s 4ms/step - loss: 0.0559 - accuracy: 0.9822 - val_loss: 0.0975 - val_accuracy: 0.9730\n",
      "Epoch 5/20\n",
      "1563/1563 [==============================] - 6s 4ms/step - loss: 0.0409 - accuracy: 0.9871 - val_loss: 0.0855 - val_accuracy: 0.9783\n",
      "Epoch 6/20\n",
      "1563/1563 [==============================] - 6s 4ms/step - loss: 0.0340 - accuracy: 0.9894 - val_loss: 0.0936 - val_accuracy: 0.9750\n",
      "Epoch 7/20\n",
      "1563/1563 [==============================] - 7s 4ms/step - loss: 0.0284 - accuracy: 0.9907 - val_loss: 0.0923 - val_accuracy: 0.9772\n",
      "Epoch 8/20\n",
      "1563/1563 [==============================] - 7s 4ms/step - loss: 0.0240 - accuracy: 0.9920 - val_loss: 0.0930 - val_accuracy: 0.9764\n",
      "Epoch 9/20\n",
      "1563/1563 [==============================] - 6s 4ms/step - loss: 0.0199 - accuracy: 0.9933 - val_loss: 0.0901 - val_accuracy: 0.9775\n",
      "Epoch 10/20\n",
      "1563/1563 [==============================] - 6s 4ms/step - loss: 0.0194 - accuracy: 0.9932 - val_loss: 0.0932 - val_accuracy: 0.9776\n",
      "Epoch 11/20\n",
      "1563/1563 [==============================] - 6s 4ms/step - loss: 0.0168 - accuracy: 0.9942 - val_loss: 0.1143 - val_accuracy: 0.9743\n",
      "Epoch 12/20\n",
      "1563/1563 [==============================] - 6s 4ms/step - loss: 0.0144 - accuracy: 0.9952 - val_loss: 0.1138 - val_accuracy: 0.9758\n",
      "Epoch 13/20\n",
      "1563/1563 [==============================] - 6s 4ms/step - loss: 0.0142 - accuracy: 0.9950 - val_loss: 0.1262 - val_accuracy: 0.9746\n",
      "Epoch 14/20\n",
      "1563/1563 [==============================] - 6s 4ms/step - loss: 0.0145 - accuracy: 0.9952 - val_loss: 0.1111 - val_accuracy: 0.9778\n",
      "Epoch 15/20\n",
      "1563/1563 [==============================] - 7s 4ms/step - loss: 0.0108 - accuracy: 0.9968 - val_loss: 0.1196 - val_accuracy: 0.9773\n",
      "Epoch 16/20\n",
      "1563/1563 [==============================] - 6s 4ms/step - loss: 0.0142 - accuracy: 0.9956 - val_loss: 0.1148 - val_accuracy: 0.9778\n",
      "Epoch 17/20\n",
      "1563/1563 [==============================] - 6s 4ms/step - loss: 0.0104 - accuracy: 0.9966 - val_loss: 0.1229 - val_accuracy: 0.9775\n",
      "Epoch 18/20\n",
      "1563/1563 [==============================] - 6s 4ms/step - loss: 0.0128 - accuracy: 0.9957 - val_loss: 0.1468 - val_accuracy: 0.9772\n",
      "Epoch 19/20\n",
      "1563/1563 [==============================] - 6s 4ms/step - loss: 0.0082 - accuracy: 0.9976 - val_loss: 0.1176 - val_accuracy: 0.9795\n",
      "Epoch 20/20\n",
      "1563/1563 [==============================] - 6s 4ms/step - loss: 0.0114 - accuracy: 0.9967 - val_loss: 0.1292 - val_accuracy: 0.9785\n"
     ]
    }
   ],
   "source": [
    "with tensorflow.device('/device:CPU:0'):\n",
    "    model_2.fit(scaled_X_train, y_train, validation_split=1/6, epochs=20, verbose=1)"
   ]
  },
  {
   "cell_type": "code",
   "execution_count": 62,
   "metadata": {},
   "outputs": [
    {
     "data": {
      "image/png": "[encoded data removed]",
      "text/plain": [
       "<Figure size 864x288 with 2 Axes>"
      ]
     },
     "metadata": {
      "needs_background": "light"
     },
     "output_type": "display_data"
    }
   ],
   "source": [
    "metrics_2 = pd.DataFrame(model_2.history.history)\n",
    "metrics_2.index = range(len(metrics_2))\n",
    "plot_metrics(metrics_2)"
   ]
  },
  {
   "cell_type": "code",
   "execution_count": 63,
   "metadata": {},
   "outputs": [],
   "source": [
    "with tensorflow.device('/device:CPU:0'):\n",
    "    model_3 = MLP_model(nodes=[128, 128, 10], activations=[\"relu\", \"relu\", \"softmax\"], names=[\"Hidden_1\", \"Hidden_2\", \"Output\"])"
   ]
  },
  {
   "cell_type": "code",
   "execution_count": 64,
   "metadata": {},
   "outputs": [
    {
     "name": "stdout",
     "output_type": "stream",
     "text": [
      "Epoch 1/5\n",
      "1875/1875 [==============================] - 2s 820us/step - loss: 0.2260 - accuracy: 0.9337\n",
      "Epoch 2/5\n",
      "1875/1875 [==============================] - 2s 830us/step - loss: 0.0982 - accuracy: 0.9698\n",
      "Epoch 3/5\n",
      "1875/1875 [==============================] - 1s 789us/step - loss: 0.0681 - accuracy: 0.9782\n",
      "Epoch 4/5\n",
      "1875/1875 [==============================] - 1s 799us/step - loss: 0.0508 - accuracy: 0.9838\n",
      "Epoch 5/5\n",
      "1875/1875 [==============================] - 2s 824us/step - loss: 0.0399 - accuracy: 0.9874\n"
     ]
    }
   ],
   "source": [
    "with tensorflow.device('/device:CPU:0'):\n",
    "    model_3.fit(scaled_X_train, y_train, verbose=1, epochs=5)"
   ]
  },
  {
   "cell_type": "code",
   "execution_count": 67,
   "metadata": {},
   "outputs": [
    {
     "name": "stderr",
     "output_type": "stream",
     "text": [
      "2022-04-21 11:34:32.425251: I tensorflow/core/grappler/optimizers/custom_graph_optimizer_registry.cc:113] Plugin optimizer for device_type GPU is enabled.\n"
     ]
    },
    {
     "data": {
      "text/plain": [
       "array([[0., 0., 0., ..., 1., 0., 0.],\n",
       "       [0., 0., 1., ..., 0., 0., 0.],\n",
       "       [0., 1., 0., ..., 0., 0., 0.],\n",
       "       ...,\n",
       "       [0., 0., 0., ..., 0., 0., 0.],\n",
       "       [0., 0., 0., ..., 0., 0., 0.],\n",
       "       [0., 0., 0., ..., 0., 0., 0.]], dtype=float32)"
      ]
     },
     "execution_count": 67,
     "metadata": {},
     "output_type": "execute_result"
    }
   ],
   "source": [
    "y_pred = model_3.predict(X_test)\n",
    "y_pred"
   ]
  },
  {
   "cell_type": "code",
   "execution_count": 68,
   "metadata": {},
   "outputs": [
    {
     "name": "stderr",
     "output_type": "stream",
     "text": [
      "2022-04-21 11:34:35.855232: I tensorflow/core/grappler/optimizers/custom_graph_optimizer_registry.cc:113] Plugin optimizer for device_type GPU is enabled.\n"
     ]
    },
    {
     "name": "stdout",
     "output_type": "stream",
     "text": [
      "              precision    recall  f1-score   support\n",
      "\n",
      "           0       0.98      0.99      0.98       980\n",
      "           1       0.99      0.99      0.99      1135\n",
      "           2       0.98      0.97      0.98      1032\n",
      "           3       0.93      0.99      0.96      1010\n",
      "           4       0.99      0.98      0.98       982\n",
      "           5       0.99      0.95      0.97       892\n",
      "           6       0.98      0.99      0.98       958\n",
      "           7       0.96      0.98      0.97      1028\n",
      "           8       0.97      0.96      0.97       974\n",
      "           9       0.99      0.94      0.96      1009\n",
      "\n",
      "    accuracy                           0.97     10000\n",
      "   macro avg       0.98      0.97      0.97     10000\n",
      "weighted avg       0.98      0.97      0.97     10000\n",
      "\n"
     ]
    },
    {
     "data": {
      "text/plain": [
       "<sklearn.metrics._plot.confusion_matrix.ConfusionMatrixDisplay at 0x2e2236f70>"
      ]
     },
     "execution_count": 68,
     "metadata": {},
     "output_type": "execute_result"
    },
    {
     "data": {
      "image/png": "[encoded data removed]",
      "text/plain": [
       "<Figure size 432x288 with 2 Axes>"
      ]
     },
     "metadata": {
      "needs_background": "light"
     },
     "output_type": "display_data"
    }
   ],
   "source": [
    "from sklearn.metrics import classification_report, confusion_matrix, ConfusionMatrixDisplay\n",
    "\n",
    "y_pred = model_3.predict(scaled_X_test)\n",
    "y_pred = np.argmax(y_pred, axis=1)\n",
    "\n",
    "print(classification_report(y_test, y_pred))\n",
    "cm = confusion_matrix(y_test, y_pred)\n",
    "ConfusionMatrixDisplay(cm).plot()"
   ]
  },
  {
   "cell_type": "code",
   "execution_count": 69,
   "metadata": {},
   "outputs": [
    {
     "data": {
      "image/png": "[encoded data removed]",
      "text/plain": [
       "<Figure size 864x576 with 20 Axes>"
      ]
     },
     "metadata": {
      "needs_background": "light"
     },
     "output_type": "display_data"
    }
   ],
   "source": [
    "misclassified_indices = np.where(y_pred != y_test)\n",
    "misclassified_samples = scaled_X_test[misclassified_indices]\n",
    "\n",
    "display_images(misclassified_samples, 4,5, (12,8))"
   ]
  }
 ],
 "metadata": {
  "interpreter": {
   "hash": "8ab85649342dae147ebae0a60e5dbaca3ea59d0f56a6a7299a1dc242a894ae53"
  },
  "kernelspec": {
   "display_name": "Python 3.9.9 ('ai21-deep-learning-WGFYuZhT')",
   "language": "python",
   "name": "python3"
  },
  "language_info": {
   "codemirror_mode": {
    "name": "ipython",
    "version": 3
   },
   "file_extension": ".py",
   "mimetype": "text/x-python",
   "name": "python",
   "nbconvert_exporter": "python",
   "pygments_lexer": "ipython3",
   "version": "3.9.9"
  },
  "orig_nbformat": 4
 },
 "nbformat": 4,
 "nbformat_minor": 2
}
