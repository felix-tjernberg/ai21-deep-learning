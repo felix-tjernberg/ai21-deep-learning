{
 "cells": [
  {
   "cell_type": "markdown",
   "metadata": {},
   "source": [
    "# [MLP Regression](https://github.com/kokchun/Deep-learning-AI21/blob/main/Lectures/Lec0-MLP_regression.ipynb)"
   ]
  },
  {
   "cell_type": "code",
   "execution_count": null,
   "metadata": {},
   "outputs": [],
   "source": [
    "import seaborn\n",
    "import pandas\n",
    "import matplotlib.pyplot as plt\n",
    "import numpy\n",
    "\n",
    "mpg_df = seaborn.load_dataset('mpg').drop('name', axis=1)\n",
    "mpg_df.head()"
   ]
  },
  {
   "cell_type": "code",
   "execution_count": null,
   "metadata": {},
   "outputs": [],
   "source": [
    "mpg_df['origin'].value_counts()"
   ]
  },
  {
   "cell_type": "code",
   "execution_count": null,
   "metadata": {},
   "outputs": [],
   "source": [
    "mpg_df.info()"
   ]
  },
  {
   "cell_type": "code",
   "execution_count": null,
   "metadata": {},
   "outputs": [],
   "source": [
    "mpg_df.query('horsepower.isna()') # Exercise: impute the values"
   ]
  },
  {
   "cell_type": "code",
   "execution_count": null,
   "metadata": {},
   "outputs": [],
   "source": [
    "mpg_dropna = mpg_df.dropna(axis=0)\n",
    "mpg_dropna.info()"
   ]
  },
  {
   "cell_type": "code",
   "execution_count": null,
   "metadata": {},
   "outputs": [],
   "source": [
    "mpg_df['model_year'].value_counts().sort_index().plot(kind='bar', title='Model year counts');"
   ]
  },
  {
   "cell_type": "code",
   "execution_count": null,
   "metadata": {},
   "outputs": [],
   "source": [
    "bins = pandas.IntervalIndex.from_tuples([(69,73), (74,77), (78,82)])\n",
    "pandas.cut(mpg_dropna['model_year'], bins=bins).head()"
   ]
  },
  {
   "cell_type": "code",
   "execution_count": null,
   "metadata": {},
   "outputs": [],
   "source": [
    "mpg_new_model_year = mpg_dropna.drop(columns='model_year').join(pandas.cut(mpg_dropna['model_year'], bins=bins))\n",
    "mpg_new_model_year"
   ]
  },
  {
   "cell_type": "code",
   "execution_count": null,
   "metadata": {},
   "outputs": [],
   "source": [
    "mpg_dummies = pandas.get_dummies(mpg_new_model_year, columns=['model_year', 'origin'], drop_first=True)\n",
    "mpg_dummies.head()"
   ]
  },
  {
   "cell_type": "markdown",
   "metadata": {},
   "source": [
    "## Train|Test Split"
   ]
  },
  {
   "cell_type": "code",
   "execution_count": null,
   "metadata": {},
   "outputs": [],
   "source": [
    "X, y = mpg_dummies.drop(columns=['mpg']).values, mpg_dummies['mpg'].values # Keras and tensorflow needs arrays instead of dataframes\n",
    "\n",
    "X, X.shape, type(y)"
   ]
  },
  {
   "cell_type": "code",
   "execution_count": null,
   "metadata": {},
   "outputs": [],
   "source": [
    "from sklearn.model_selection import train_test_split\n",
    "from sklearn.preprocessing import StandardScaler\n",
    "\n",
    "X_train, X_test, y_train, y_test = train_test_split(X, y, test_size=0.33, random_state=42)\n",
    "\n",
    "scaler = StandardScaler()\n",
    "scaled_X_train = scaler.fit_transform(X_train)\n",
    "scaled_X_test = scaler.transform(X_test)\n",
    "\n",
    "scaled_X_train.shape, scaled_X_test.shape"
   ]
  },
  {
   "cell_type": "markdown",
   "metadata": {},
   "source": [
    "## Multiple linear regression"
   ]
  },
  {
   "cell_type": "code",
   "execution_count": null,
   "metadata": {},
   "outputs": [],
   "source": [
    "from sklearn.linear_model import LinearRegression\n",
    "\n",
    "model_LinearRegression = LinearRegression()\n",
    "model_LinearRegression.fit(scaled_X_train, y_train)\n",
    "\n",
    "intercept, coefficients = model_LinearRegression.intercept_, model_LinearRegression.coef_\n",
    "\n",
    "intercept, coefficients"
   ]
  },
  {
   "cell_type": "markdown",
   "metadata": {},
   "source": [
    "## Artificial neural network (Shallow Multilinear Perception) (Shallow MLP)"
   ]
  },
  {
   "cell_type": "code",
   "execution_count": null,
   "metadata": {},
   "outputs": [],
   "source": [
    "from tensorflow.keras import Sequential\n",
    "from tensorflow.keras.layers import Dense, InputLayer\n",
    "from tensorflow.keras.optimizers import SGD\n",
    "\n",
    "model_shallow = Sequential(name='shallow_network') # names cannot have spaces\n",
    "model_shallow.add(InputLayer(X_train.shape[1])) # 274 features\n",
    "# model_shallow.add(Dense(20, name='hidden_layer')) # create more hidden layers\n",
    "model_shallow.add(Dense(1, name='output_layer')) # note no activation function --> linear activation (linear regression)\n",
    "model_shallow.compile(loss='mean_squared_error', optimizer=SGD(learning_rate=.01))\n",
    "model_shallow.summary()"
   ]
  },
  {
   "cell_type": "code",
   "execution_count": null,
   "metadata": {},
   "outputs": [],
   "source": [
    "model_shallow.fit(scaled_X_train, y_train, epochs=50, verbose=1, validation_data=(scaled_X_test,y_test))"
   ]
  },
  {
   "cell_type": "code",
   "execution_count": null,
   "metadata": {},
   "outputs": [],
   "source": [
    "model_shallow.history.history.keys()"
   ]
  },
  {
   "cell_type": "code",
   "execution_count": null,
   "metadata": {},
   "outputs": [],
   "source": [
    "loss_df = pandas.DataFrame(model_shallow.history.history)\n",
    "loss_df.head()"
   ]
  },
  {
   "cell_type": "code",
   "execution_count": null,
   "metadata": {},
   "outputs": [],
   "source": [
    "loss_df.index = range(1, len(loss_df)+1)\n",
    "loss_df.head()"
   ]
  },
  {
   "cell_type": "code",
   "execution_count": null,
   "metadata": {},
   "outputs": [],
   "source": [
    "loss_df.plot(xlabel='Epochs', ylabel='MSE Loss');"
   ]
  },
  {
   "cell_type": "code",
   "execution_count": null,
   "metadata": {},
   "outputs": [],
   "source": [
    "model_shallow.layers[0]"
   ]
  },
  {
   "cell_type": "code",
   "execution_count": null,
   "metadata": {},
   "outputs": [],
   "source": [
    "weights, bias = model_shallow.layers[0].get_weights()\n",
    "\n",
    "print(f'Linear regression sklearn: {intercept=}, {coefficients=}')\n",
    "print(f'ANN: {bias=}, {weights=}')"
   ]
  },
  {
   "cell_type": "markdown",
   "metadata": {},
   "source": [
    "## Prediction and evaluation"
   ]
  },
  {
   "cell_type": "code",
   "execution_count": null,
   "metadata": {},
   "outputs": [],
   "source": [
    "from sklearn.metrics import mean_absolute_error, mean_squared_error\n",
    "\n",
    "y_pred_ANN = model_shallow.predict(scaled_X_test)\n",
    "y_pred_LinearRegression = model_LinearRegression.predict(scaled_X_test)\n",
    "\n",
    "print('MAE, RSME for ANN')\n",
    "print(mean_absolute_error(y_test, y_pred_ANN), numpy.sqrt(mean_absolute_error(y_test, y_pred_ANN)))\n",
    "print('\\nMAE, RSME for Linear regression')\n",
    "print(mean_absolute_error(y_test, y_pred_LinearRegression), numpy.sqrt(mean_absolute_error(y_test, y_pred_LinearRegression)))"
   ]
  }
 ],
 "metadata": {
  "interpreter": {
   "hash": "9aadd0e0da0ea706f82541bb89b831388608f38ec4f1c3a7d485a04ed1d02b14"
  },
  "kernelspec": {
   "display_name": "Python 3.9.9 ('ai21-deep-learning-ifJTOumm')",
   "language": "python",
   "name": "python3"
  },
  "language_info": {
   "codemirror_mode": {
    "name": "ipython",
    "version": 3
   },
   "file_extension": ".py",
   "mimetype": "text/x-python",
   "name": "python",
   "nbconvert_exporter": "python",
   "pygments_lexer": "ipython3",
   "version": "3.9.9"
  },
  "orig_nbformat": 4
 },
 "nbformat": 4,
 "nbformat_minor": 2
}
