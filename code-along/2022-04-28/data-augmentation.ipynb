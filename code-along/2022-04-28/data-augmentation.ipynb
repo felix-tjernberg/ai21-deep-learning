{
 "cells": [
  {
   "cell_type": "markdown",
   "metadata": {},
   "source": [
    "# [Data Augmentation](https://github.com/kokchun/Deep-learning-AI21/blob/main/Lectures/Lec4-Data_augmentation.ipynb)"
   ]
  },
  {
   "cell_type": "code",
   "execution_count": 1,
   "metadata": {},
   "outputs": [],
   "source": [
    "import seaborn as sns\n",
    "import numpy as np\n",
    "import matplotlib.pyplot as plt\n",
    "import pandas as pd\n",
    "from tensorflow.keras.datasets.mnist import load_data"
   ]
  },
  {
   "cell_type": "code",
   "execution_count": 2,
   "metadata": {},
   "outputs": [
    {
     "data": {
      "image/png": "[encoded data removed]",
      "text/plain": [
       "<Figure size 720x288 with 10 Axes>"
      ]
     },
     "metadata": {
      "needs_background": "light"
     },
     "output_type": "display_data"
    }
   ],
   "source": [
    "(X_train, y_train), (X_test, y_test) = load_data()\n",
    "y_train, y_test = y_train.ravel(), y_test.ravel()\n",
    "\n",
    "def plot_samples(data):\n",
    "    fig, axes = plt.subplots(2, 5, figsize=(10, 4))\n",
    "    for i, ax in enumerate(axes.flatten()):\n",
    "        ax.imshow(data[i], cmap = \"gray\")\n",
    "        ax.axis(\"off\")\n",
    "    fig.tight_layout()\n",
    "\n",
    "plot_samples(X_train)"
   ]
  },
  {
   "cell_type": "code",
   "execution_count": 3,
   "metadata": {},
   "outputs": [
    {
     "name": "stdout",
     "output_type": "stream",
     "text": [
      "X_train.min()=0, X_train.max()=255\n"
     ]
    }
   ],
   "source": [
    "scaled_X_train = X_train.astype(\"float32\") / 255\n",
    "scaled_X_test = X_test.astype(\"float32\") / 255\n",
    "print(f\"{X_train.min()=}, {X_train.max()=}\")"
   ]
  },
  {
   "cell_type": "code",
   "execution_count": 9,
   "metadata": {},
   "outputs": [],
   "source": [
    "from sklearn.model_selection import train_test_split\n",
    "\n",
    "X_train_val, X_val, y_train_val, y_val = train_test_split(\n",
    "    scaled_X_train, y_train, test_size=1/6, random_state=42\n",
    ")"
   ]
  },
  {
   "cell_type": "code",
   "execution_count": 10,
   "metadata": {},
   "outputs": [
    {
     "data": {
      "text/plain": [
       "(50000, 28, 28)"
      ]
     },
     "execution_count": 10,
     "metadata": {},
     "output_type": "execute_result"
    }
   ],
   "source": [
    "X_train_val.shape"
   ]
  },
  {
   "cell_type": "markdown",
   "metadata": {},
   "source": [
    "## Data augmentation"
   ]
  },
  {
   "cell_type": "code",
   "execution_count": 12,
   "metadata": {},
   "outputs": [],
   "source": [
    "from tensorflow.keras.preprocessing.image import ImageDataGenerator"
   ]
  },
  {
   "cell_type": "code",
   "execution_count": 18,
   "metadata": {},
   "outputs": [
    {
     "data": {
      "text/plain": [
       "(50000, 28, 28, 1)"
      ]
     },
     "execution_count": 18,
     "metadata": {},
     "output_type": "execute_result"
    }
   ],
   "source": [
    "# ImageDataGenerator requires rank 4 (amount of dimensions)\n",
    "rank_4_X_train_val = X_train_val[:,:,:,None] # None creates a 4th dimension with ones\n",
    "rank_4_X_val = X_val[:,:,:,None]\n",
    "rank_4_X_train = scaled_X_train[:,:,:,None]\n",
    "rank_4_X_test = scaled_X_test[:,:,:,None]\n",
    "\n",
    "rank_4_X_train_val.shape"
   ]
  },
  {
   "cell_type": "code",
   "execution_count": 19,
   "metadata": {},
   "outputs": [],
   "source": [
    "train_image_generator = ImageDataGenerator(\n",
    "    rotation_range = 90,\n",
    "    shear_range = .2,\n",
    "    zoom_range = .2, # tho zoom might solve aspect ratio problem\n",
    "    horizontal_flip = True,\n",
    "    height_shift_range = .2, # check if can be negative range\n",
    "    width_shift_range = .2, # check if can be negative range\n",
    ")\n",
    "\n",
    "# don't augment validation and test data\n",
    "test_image_generator = ImageDataGenerator()"
   ]
  },
  {
   "cell_type": "code",
   "execution_count": 21,
   "metadata": {},
   "outputs": [],
   "source": [
    "train_val_generator = train_image_generator.flow(rank_4_X_train_val, y_train_val, batch_size=32)"
   ]
  },
  {
   "cell_type": "code",
   "execution_count": 23,
   "metadata": {},
   "outputs": [
    {
     "data": {
      "text/plain": [
       "(<keras.preprocessing.image.NumpyArrayIterator at 0x17f0987c0>,\n",
       " <keras.preprocessing.image.NumpyArrayIterator at 0x294587be0>)"
      ]
     },
     "execution_count": 23,
     "metadata": {},
     "output_type": "execute_result"
    }
   ],
   "source": [
    "val_generator = test_image_generator.flow(rank_4_X_val, y_val, batch_size=32)\n",
    "\n",
    "train_val_generator, val_generator"
   ]
  },
  {
   "cell_type": "code",
   "execution_count": 30,
   "metadata": {},
   "outputs": [
    {
     "name": "stdout",
     "output_type": "stream",
     "text": [
      "2\n",
      "(32, 28, 28, 1)\n"
     ]
    },
    {
     "data": {
      "image/png": "[encoded data removed]",
      "text/plain": [
       "<Figure size 720x288 with 10 Axes>"
      ]
     },
     "metadata": {
      "needs_background": "light"
     },
     "output_type": "display_data"
    }
   ],
   "source": [
    "print(len(train_val_generator.next()))\n",
    "print(train_val_generator.next()[0].shape) # 1 batch of 32 samples\n",
    "plot_samples(train_val_generator.next()[0])"
   ]
  },
  {
   "cell_type": "code",
   "execution_count": 31,
   "metadata": {},
   "outputs": [
    {
     "data": {
      "text/plain": [
       "array([2, 5, 6, 0, 2, 8, 4, 8, 8, 4, 9, 5, 2, 4, 9, 3, 2, 7, 3, 6, 1, 2,\n",
       "       9, 4, 3, 9, 0, 3, 8, 3, 0, 1], dtype=uint8)"
      ]
     },
     "execution_count": 31,
     "metadata": {},
     "output_type": "execute_result"
    },
    {
     "data": {
      "image/png": "[encoded data removed]",
      "text/plain": [
       "<Figure size 720x288 with 10 Axes>"
      ]
     },
     "metadata": {
      "needs_background": "light"
     },
     "output_type": "display_data"
    }
   ],
   "source": [
    "sample_batch = train_val_generator.next()\n",
    "plot_samples(sample_batch[0])\n",
    "sample_batch[1]"
   ]
  },
  {
   "cell_type": "code",
   "execution_count": 37,
   "metadata": {},
   "outputs": [],
   "source": [
    "train_image_generator_v2 = ImageDataGenerator(\n",
    "    rotation_range = 10,\n",
    "    shear_range = .2,\n",
    "    zoom_range = .2,\n",
    "    height_shift_range = .2,\n",
    "    width_shift_range = .2,\n",
    ")"
   ]
  },
  {
   "cell_type": "code",
   "execution_count": 38,
   "metadata": {},
   "outputs": [],
   "source": [
    "train_val_generator_v2 = train_image_generator_v2.flow(rank_4_X_train_val, y_train_val, batch_size=32)"
   ]
  },
  {
   "cell_type": "code",
   "execution_count": 41,
   "metadata": {},
   "outputs": [
    {
     "data": {
      "text/plain": [
       "array([2, 5, 6, 2, 7, 3, 9, 9, 0, 2], dtype=uint8)"
      ]
     },
     "execution_count": 41,
     "metadata": {},
     "output_type": "execute_result"
    },
    {
     "data": {
      "image/png": "[encoded data removed]",
      "text/plain": [
       "<Figure size 720x288 with 10 Axes>"
      ]
     },
     "metadata": {
      "needs_background": "light"
     },
     "output_type": "display_data"
    }
   ],
   "source": [
    "sample_batch_v2 = train_val_generator_v2.next()\n",
    "plot_samples(sample_batch_v2[0])\n",
    "sample_batch_v2[1][:10]"
   ]
  },
  {
   "cell_type": "code",
   "execution_count": 42,
   "metadata": {},
   "outputs": [],
   "source": [
    "from tensorflow.keras.models import Sequential\n",
    "from tensorflow.keras.layers import Dense, Conv2D, Flatten, Dropout, MaxPooling2D\n",
    "from tensorflow.keras.optimizers import Adam\n",
    "\n",
    "def CNN_model(learning_rate=.001, drop_rate=.5, kernels=[32,32]):\n",
    "    adam = Adam(learning_rate=learning_rate)\n",
    "    model = Sequential(name='cnn_model')\n",
    "\n",
    "    for number_kernel in kernels:\n",
    "        conv_layer = Conv2D(number_kernel, kernel_size = (3,3), activation='relu', kernel_initializer='he_normal', input_shape=X_train.shape[1:])\n",
    "        model.add(conv_layer)\n",
    "        model.add(MaxPooling2D(pool_size=(2,2), strides=2))\n",
    "\n",
    "    model.add(Flatten())\n",
    "    model.add(Dropout(drop_rate))\n",
    "    model.add(Dense(256, activation='relu', kernel_initializer='he_normal'))\n",
    "    model.add(Dense(10, activation='softmax'))\n",
    "    model.compile(loss='sparse_categorical_crossentropy', optimizer=adam, metrics=['acc'])\n",
    "\n",
    "    return model"
   ]
  },
  {
   "cell_type": "code",
   "execution_count": 43,
   "metadata": {},
   "outputs": [
    {
     "name": "stdout",
     "output_type": "stream",
     "text": [
      "Metal device set to: Apple M1 Pro\n",
      "\n",
      "systemMemory: 16.00 GB\n",
      "maxCacheSize: 5.33 GB\n",
      "\n",
      "Model: \"cnn_model\"\n",
      "_________________________________________________________________\n",
      " Layer (type)                Output Shape              Param #   \n",
      "=================================================================\n",
      " conv2d (Conv2D)             (None, 26, 26, 32)        320       \n",
      "                                                                 \n",
      " max_pooling2d (MaxPooling2D  (None, 13, 13, 32)       0         \n",
      " )                                                               \n",
      "                                                                 \n",
      " conv2d_1 (Conv2D)           (None, 11, 11, 32)        9248      \n",
      "                                                                 \n",
      " max_pooling2d_1 (MaxPooling  (None, 5, 5, 32)         0         \n",
      " 2D)                                                             \n",
      "                                                                 \n",
      " flatten (Flatten)           (None, 800)               0         \n",
      "                                                                 \n",
      " dropout (Dropout)           (None, 800)               0         \n",
      "                                                                 \n",
      " dense (Dense)               (None, 256)               205056    \n",
      "                                                                 \n",
      " dense_1 (Dense)             (None, 10)                2570      \n",
      "                                                                 \n",
      "=================================================================\n",
      "Total params: 217,194\n",
      "Trainable params: 217,194\n",
      "Non-trainable params: 0\n",
      "_________________________________________________________________\n"
     ]
    },
    {
     "name": "stderr",
     "output_type": "stream",
     "text": [
      "2022-04-28 10:05:52.506178: I tensorflow/core/common_runtime/pluggable_device/pluggable_device_factory.cc:305] Could not identify NUMA node of platform GPU ID 0, defaulting to 0. Your kernel may not have been built with NUMA support.\n",
      "2022-04-28 10:05:52.506596: I tensorflow/core/common_runtime/pluggable_device/pluggable_device_factory.cc:271] Created TensorFlow device (/job:localhost/replica:0/task:0/device:GPU:0 with 0 MB memory) -> physical PluggableDevice (device: 0, name: METAL, pci bus id: <undefined>)\n"
     ]
    }
   ],
   "source": [
    "model = CNN_model(drop_rate=.5)\n",
    "model.summary()"
   ]
  },
  {
   "cell_type": "markdown",
   "metadata": {},
   "source": [
    "## Train on augmented data"
   ]
  },
  {
   "cell_type": "code",
   "execution_count": 45,
   "metadata": {},
   "outputs": [
    {
     "data": {
      "text/plain": [
       "(1562, 312)"
      ]
     },
     "execution_count": 45,
     "metadata": {},
     "output_type": "execute_result"
    }
   ],
   "source": [
    "steps_per_epoch =  int(len(X_train_val)/32)\n",
    "validation_steps =  int(len(X_val)/32)\n",
    "steps_per_epoch, validation_steps"
   ]
  },
  {
   "cell_type": "code",
   "execution_count": 46,
   "metadata": {},
   "outputs": [
    {
     "name": "stdout",
     "output_type": "stream",
     "text": [
      "Epoch 1/100\n"
     ]
    },
    {
     "name": "stderr",
     "output_type": "stream",
     "text": [
      "2022-04-28 10:30:14.813949: W tensorflow/core/platform/profile_utils/cpu_utils.cc:128] Failed to get CPU frequency: 0 Hz\n",
      "2022-04-28 10:30:15.053861: I tensorflow/core/grappler/optimizers/custom_graph_optimizer_registry.cc:113] Plugin optimizer for device_type GPU is enabled.\n"
     ]
    },
    {
     "name": "stdout",
     "output_type": "stream",
     "text": [
      "1556/1562 [============================>.] - ETA: 0s - loss: 0.6524 - acc: 0.7858"
     ]
    },
    {
     "name": "stderr",
     "output_type": "stream",
     "text": [
      "2022-04-28 10:30:26.285313: I tensorflow/core/grappler/optimizers/custom_graph_optimizer_registry.cc:113] Plugin optimizer for device_type GPU is enabled.\n"
     ]
    },
    {
     "name": "stdout",
     "output_type": "stream",
     "text": [
      "1562/1562 [==============================] - 13s 8ms/step - loss: 0.6516 - acc: 0.7861 - val_loss: 0.1205 - val_acc: 0.9643\n",
      "Epoch 2/100\n",
      "1562/1562 [==============================] - 12s 8ms/step - loss: 0.2829 - acc: 0.9105 - val_loss: 0.0896 - val_acc: 0.9730\n",
      "Epoch 3/100\n",
      "1562/1562 [==============================] - 12s 8ms/step - loss: 0.2255 - acc: 0.9299 - val_loss: 0.0776 - val_acc: 0.9759\n",
      "Epoch 4/100\n",
      "1562/1562 [==============================] - 11s 7ms/step - loss: 0.1967 - acc: 0.9379 - val_loss: 0.0877 - val_acc: 0.9731\n",
      "Epoch 5/100\n",
      "1562/1562 [==============================] - 11s 7ms/step - loss: 0.1726 - acc: 0.9458 - val_loss: 0.0556 - val_acc: 0.9838\n",
      "Epoch 6/100\n",
      "1562/1562 [==============================] - 11s 7ms/step - loss: 0.1620 - acc: 0.9488 - val_loss: 0.0633 - val_acc: 0.9810\n",
      "Epoch 7/100\n",
      "1562/1562 [==============================] - 11s 7ms/step - loss: 0.1533 - acc: 0.9524 - val_loss: 0.0514 - val_acc: 0.9834\n",
      "Epoch 8/100\n",
      "1562/1562 [==============================] - 12s 8ms/step - loss: 0.1422 - acc: 0.9562 - val_loss: 0.0442 - val_acc: 0.9869\n",
      "Epoch 9/100\n",
      "1562/1562 [==============================] - 11s 7ms/step - loss: 0.1403 - acc: 0.9560 - val_loss: 0.0413 - val_acc: 0.9871\n",
      "Epoch 10/100\n",
      "1562/1562 [==============================] - 11s 7ms/step - loss: 0.1335 - acc: 0.9597 - val_loss: 0.0435 - val_acc: 0.9873\n",
      "Epoch 11/100\n",
      "1562/1562 [==============================] - 12s 7ms/step - loss: 0.1288 - acc: 0.9593 - val_loss: 0.0411 - val_acc: 0.9880\n",
      "Epoch 12/100\n",
      "1562/1562 [==============================] - 11s 7ms/step - loss: 0.1237 - acc: 0.9610 - val_loss: 0.0407 - val_acc: 0.9883\n",
      "Epoch 13/100\n",
      "1562/1562 [==============================] - 11s 7ms/step - loss: 0.1184 - acc: 0.9636 - val_loss: 0.0418 - val_acc: 0.9880\n",
      "Epoch 14/100\n",
      "1562/1562 [==============================] - 12s 7ms/step - loss: 0.1137 - acc: 0.9647 - val_loss: 0.0411 - val_acc: 0.9882\n",
      "Epoch 15/100\n",
      "1562/1562 [==============================] - 12s 7ms/step - loss: 0.1163 - acc: 0.9635 - val_loss: 0.0388 - val_acc: 0.9892\n",
      "Epoch 16/100\n",
      "1562/1562 [==============================] - 12s 7ms/step - loss: 0.1161 - acc: 0.9629 - val_loss: 0.0407 - val_acc: 0.9879\n",
      "Epoch 17/100\n",
      "1562/1562 [==============================] - 11s 7ms/step - loss: 0.1119 - acc: 0.9653 - val_loss: 0.0444 - val_acc: 0.9870\n",
      "Epoch 18/100\n",
      "1562/1562 [==============================] - 11s 7ms/step - loss: 0.1064 - acc: 0.9667 - val_loss: 0.0534 - val_acc: 0.9857\n",
      "Epoch 19/100\n",
      "1562/1562 [==============================] - 11s 7ms/step - loss: 0.1035 - acc: 0.9680 - val_loss: 0.0450 - val_acc: 0.9864\n",
      "Epoch 20/100\n",
      "1562/1562 [==============================] - 11s 7ms/step - loss: 0.1036 - acc: 0.9676 - val_loss: 0.0431 - val_acc: 0.9880\n"
     ]
    },
    {
     "data": {
      "text/plain": [
       "<keras.callbacks.History at 0x297633940>"
      ]
     },
     "execution_count": 46,
     "metadata": {},
     "output_type": "execute_result"
    }
   ],
   "source": [
    "from tensorflow.keras.callbacks import EarlyStopping\n",
    "\n",
    "early_stopper = EarlyStopping(monitor='val_acc', mode='max', patience=5, restore_best_weights=True)\n",
    "\n",
    "model.fit(train_val_generator_v2, \n",
    "          steps_per_epoch=steps_per_epoch, \n",
    "          epochs=100, \n",
    "          callbacks=[early_stopper],\n",
    "          validation_data = val_generator,\n",
    "          validation_steps=validation_steps)"
   ]
  },
  {
   "cell_type": "code",
   "execution_count": 47,
   "metadata": {},
   "outputs": [
    {
     "data": {
      "image/png": "[encoded data removed]",
      "text/plain": [
       "<Figure size 864x288 with 2 Axes>"
      ]
     },
     "metadata": {
      "needs_background": "light"
     },
     "output_type": "display_data"
    }
   ],
   "source": [
    "def plot_metrics(metrics):\n",
    "    _, ax = plt.subplots(1,2,figsize=(12,4))\n",
    "    metrics[['loss', 'val_loss']].plot(ax=ax[0], grid=True)\n",
    "    metrics[['acc', 'val_acc']].plot(ax=ax[1], grid=True)\n",
    "metrics = pd.DataFrame(model.history.history)\n",
    "plot_metrics(metrics)"
   ]
  },
  {
   "cell_type": "code",
   "execution_count": 48,
   "metadata": {},
   "outputs": [
    {
     "name": "stdout",
     "output_type": "stream",
     "text": [
      "Epoch 1/15\n",
      "   6/1562 [..............................] - ETA: 19s - loss: 2.8184 - acc: 0.1406     "
     ]
    },
    {
     "name": "stderr",
     "output_type": "stream",
     "text": [
      "2022-04-28 10:45:00.882785: I tensorflow/core/grappler/optimizers/custom_graph_optimizer_registry.cc:113] Plugin optimizer for device_type GPU is enabled.\n"
     ]
    },
    {
     "name": "stdout",
     "output_type": "stream",
     "text": [
      "1562/1562 [==============================] - 11s 7ms/step - loss: 0.6720 - acc: 0.7804\n",
      "Epoch 2/15\n",
      "1562/1562 [==============================] - 10s 7ms/step - loss: 0.2973 - acc: 0.9079\n",
      "Epoch 3/15\n",
      "1562/1562 [==============================] - 10s 7ms/step - loss: 0.2278 - acc: 0.9281\n",
      "Epoch 4/15\n",
      "1562/1562 [==============================] - 10s 7ms/step - loss: 0.1976 - acc: 0.9386\n",
      "Epoch 5/15\n",
      "1562/1562 [==============================] - 10s 7ms/step - loss: 0.1772 - acc: 0.9434\n",
      "Epoch 6/15\n",
      "1562/1562 [==============================] - 10s 6ms/step - loss: 0.1658 - acc: 0.9479\n",
      "Epoch 7/15\n",
      "1562/1562 [==============================] - 10s 6ms/step - loss: 0.1502 - acc: 0.9533\n",
      "Epoch 8/15\n",
      "1562/1562 [==============================] - 10s 6ms/step - loss: 0.1454 - acc: 0.9540\n",
      "Epoch 9/15\n",
      "1562/1562 [==============================] - 10s 6ms/step - loss: 0.1398 - acc: 0.9568\n",
      "Epoch 10/15\n",
      "1562/1562 [==============================] - 11s 7ms/step - loss: 0.1309 - acc: 0.9597\n",
      "Epoch 11/15\n",
      "1562/1562 [==============================] - 10s 7ms/step - loss: 0.1276 - acc: 0.9598\n",
      "Epoch 12/15\n",
      "1562/1562 [==============================] - 10s 7ms/step - loss: 0.1270 - acc: 0.9607\n",
      "Epoch 13/15\n",
      "1562/1562 [==============================] - 10s 6ms/step - loss: 0.1206 - acc: 0.9629\n",
      "Epoch 14/15\n",
      "1562/1562 [==============================] - 9s 6ms/step - loss: 0.1204 - acc: 0.9615\n",
      "Epoch 15/15\n",
      "1562/1562 [==============================] - 9s 6ms/step - loss: 0.1183 - acc: 0.9632\n"
     ]
    },
    {
     "data": {
      "text/plain": [
       "<keras.callbacks.History at 0x2953b05b0>"
      ]
     },
     "execution_count": 48,
     "metadata": {},
     "output_type": "execute_result"
    }
   ],
   "source": [
    "train_generator = train_image_generator_v2.flow(rank_4_X_train, y_train, batch_size=32)\n",
    "model = CNN_model(drop_rate=.5)\n",
    "model.fit(train_generator, steps_per_epoch = steps_per_epoch, epochs = 15)"
   ]
  },
  {
   "cell_type": "code",
   "execution_count": 50,
   "metadata": {},
   "outputs": [
    {
     "name": "stderr",
     "output_type": "stream",
     "text": [
      "2022-04-28 10:52:09.424762: I tensorflow/core/grappler/optimizers/custom_graph_optimizer_registry.cc:113] Plugin optimizer for device_type GPU is enabled.\n"
     ]
    },
    {
     "name": "stdout",
     "output_type": "stream",
     "text": [
      "              precision    recall  f1-score   support\n",
      "\n",
      "           0       1.00      0.99      0.99       980\n",
      "           1       1.00      0.99      0.99      1135\n",
      "           2       0.98      0.99      0.99      1032\n",
      "           3       0.98      1.00      0.99      1010\n",
      "           4       1.00      0.98      0.99       982\n",
      "           5       0.98      0.99      0.98       892\n",
      "           6       0.99      0.99      0.99       958\n",
      "           7       0.99      0.99      0.99      1028\n",
      "           8       0.97      0.99      0.98       974\n",
      "           9       0.99      0.96      0.98      1009\n",
      "\n",
      "    accuracy                           0.99     10000\n",
      "   macro avg       0.99      0.99      0.99     10000\n",
      "weighted avg       0.99      0.99      0.99     10000\n",
      "\n"
     ]
    },
    {
     "data": {
      "text/plain": [
       "<sklearn.metrics._plot.confusion_matrix.ConfusionMatrixDisplay at 0x295a56ca0>"
      ]
     },
     "execution_count": 50,
     "metadata": {},
     "output_type": "execute_result"
    },
    {
     "data": {
      "image/png": "[encoded data removed]",
      "text/plain": [
       "<Figure size 432x288 with 2 Axes>"
      ]
     },
     "metadata": {
      "needs_background": "light"
     },
     "output_type": "display_data"
    }
   ],
   "source": [
    "from sklearn.metrics import classification_report, confusion_matrix, ConfusionMatrixDisplay\n",
    "\n",
    "y_pred = model.predict(rank_4_X_test)\n",
    "y_pred_argmax = np.argmax(y_pred, axis=1)\n",
    "\n",
    "print(classification_report(y_test, y_pred_argmax))\n",
    "cm = confusion_matrix(y_test, y_pred_argmax)\n",
    "ConfusionMatrixDisplay(cm).plot()"
   ]
  }
 ],
 "metadata": {
  "interpreter": {
   "hash": "8ab85649342dae147ebae0a60e5dbaca3ea59d0f56a6a7299a1dc242a894ae53"
  },
  "kernelspec": {
   "display_name": "Python 3.9.9 ('ai21-deep-learning-WGFYuZhT')",
   "language": "python",
   "name": "python3"
  },
  "language_info": {
   "codemirror_mode": {
    "name": "ipython",
    "version": 3
   },
   "file_extension": ".py",
   "mimetype": "text/x-python",
   "name": "python",
   "nbconvert_exporter": "python",
   "pygments_lexer": "ipython3",
   "version": "3.9.9"
  },
  "orig_nbformat": 4
 },
 "nbformat": 4,
 "nbformat_minor": 2
}
